{
  "nbformat": 4,
  "nbformat_minor": 0,
  "metadata": {
    "colab": {
      "name": "stockpredlstm.ipynb",
      "provenance": [],
      "collapsed_sections": [],
      "authorship_tag": "ABX9TyP7dUpM3fqGtJOvm/RyDws7",
      "include_colab_link": true
    },
    "kernelspec": {
      "name": "python3",
      "display_name": "Python 3"
    }
  },
  "cells": [
    {
      "cell_type": "markdown",
      "metadata": {
        "id": "view-in-github",
        "colab_type": "text"
      },
      "source": [
        "<a href=\"https://colab.research.google.com/github/Abhishekrkd/stock-market-prediction-using-LSTM/blob/main/stockpredlstm.ipynb\" target=\"_parent\"><img src=\"https://colab.research.google.com/assets/colab-badge.svg\" alt=\"Open In Colab\"/></a>"
      ]
    },
    {
      "cell_type": "code",
      "metadata": {
        "cellView": "code",
        "id": "Vn56T8d-XH2e"
      },
      "source": [
        "#@title Default title text\n",
        "import pandas_datareader as pdr\n",
        "key=\"bd9f58dbf3b09c8146950d2b6f4243564698273e\""
      ],
      "execution_count": 1,
      "outputs": []
    },
    {
      "cell_type": "code",
      "metadata": {
        "id": "I5TDTf3KXhQ_"
      },
      "source": [
        "\r\n",
        "df = pdr.get_data_tiingo('AAPL', api_key=\"bd9f58dbf3b09c8146950d2b6f4243564698273e\")"
      ],
      "execution_count": 39,
      "outputs": []
    },
    {
      "cell_type": "code",
      "metadata": {
        "id": "VP68YzC-CF8F"
      },
      "source": [
        "df.to_csv('AAPL.csv')"
      ],
      "execution_count": 40,
      "outputs": []
    },
    {
      "cell_type": "code",
      "metadata": {
        "id": "p0CIDdd3COH9"
      },
      "source": [
        "import pandas as pd"
      ],
      "execution_count": 41,
      "outputs": []
    },
    {
      "cell_type": "code",
      "metadata": {
        "id": "FqBcvC6DCSP1"
      },
      "source": [
        "df=pd.read_csv('AAPL.csv')"
      ],
      "execution_count": 42,
      "outputs": []
    },
    {
      "cell_type": "code",
      "metadata": {
        "colab": {
          "base_uri": "https://localhost:8080/",
          "height": 299
        },
        "id": "8tgN5BKwCVaa",
        "outputId": "e6fd22b8-a757-4add-fd04-5a51f21a7b27"
      },
      "source": [
        "df.head()"
      ],
      "execution_count": 43,
      "outputs": [
        {
          "output_type": "execute_result",
          "data": {
            "text/html": [
              "<div>\n",
              "<style scoped>\n",
              "    .dataframe tbody tr th:only-of-type {\n",
              "        vertical-align: middle;\n",
              "    }\n",
              "\n",
              "    .dataframe tbody tr th {\n",
              "        vertical-align: top;\n",
              "    }\n",
              "\n",
              "    .dataframe thead th {\n",
              "        text-align: right;\n",
              "    }\n",
              "</style>\n",
              "<table border=\"1\" class=\"dataframe\">\n",
              "  <thead>\n",
              "    <tr style=\"text-align: right;\">\n",
              "      <th></th>\n",
              "      <th>symbol</th>\n",
              "      <th>date</th>\n",
              "      <th>close</th>\n",
              "      <th>high</th>\n",
              "      <th>low</th>\n",
              "      <th>open</th>\n",
              "      <th>volume</th>\n",
              "      <th>adjClose</th>\n",
              "      <th>adjHigh</th>\n",
              "      <th>adjLow</th>\n",
              "      <th>adjOpen</th>\n",
              "      <th>adjVolume</th>\n",
              "      <th>divCash</th>\n",
              "      <th>splitFactor</th>\n",
              "    </tr>\n",
              "  </thead>\n",
              "  <tbody>\n",
              "    <tr>\n",
              "      <th>0</th>\n",
              "      <td>AAPL</td>\n",
              "      <td>2016-01-12 00:00:00+00:00</td>\n",
              "      <td>99.96</td>\n",
              "      <td>100.69</td>\n",
              "      <td>98.8399</td>\n",
              "      <td>100.55</td>\n",
              "      <td>49154227</td>\n",
              "      <td>23.149595</td>\n",
              "      <td>23.318654</td>\n",
              "      <td>22.890192</td>\n",
              "      <td>23.286232</td>\n",
              "      <td>196616908</td>\n",
              "      <td>0.0</td>\n",
              "      <td>1.0</td>\n",
              "    </tr>\n",
              "    <tr>\n",
              "      <th>1</th>\n",
              "      <td>AAPL</td>\n",
              "      <td>2016-01-13 00:00:00+00:00</td>\n",
              "      <td>97.39</td>\n",
              "      <td>101.19</td>\n",
              "      <td>97.3000</td>\n",
              "      <td>100.32</td>\n",
              "      <td>62439631</td>\n",
              "      <td>22.554412</td>\n",
              "      <td>23.434449</td>\n",
              "      <td>22.533569</td>\n",
              "      <td>23.232967</td>\n",
              "      <td>249758524</td>\n",
              "      <td>0.0</td>\n",
              "      <td>1.0</td>\n",
              "    </tr>\n",
              "    <tr>\n",
              "      <th>2</th>\n",
              "      <td>AAPL</td>\n",
              "      <td>2016-01-14 00:00:00+00:00</td>\n",
              "      <td>99.52</td>\n",
              "      <td>100.48</td>\n",
              "      <td>95.7400</td>\n",
              "      <td>97.96</td>\n",
              "      <td>63170127</td>\n",
              "      <td>23.047696</td>\n",
              "      <td>23.270021</td>\n",
              "      <td>22.172291</td>\n",
              "      <td>22.686417</td>\n",
              "      <td>252680508</td>\n",
              "      <td>0.0</td>\n",
              "      <td>1.0</td>\n",
              "    </tr>\n",
              "    <tr>\n",
              "      <th>3</th>\n",
              "      <td>AAPL</td>\n",
              "      <td>2016-01-15 00:00:00+00:00</td>\n",
              "      <td>97.13</td>\n",
              "      <td>97.71</td>\n",
              "      <td>95.3600</td>\n",
              "      <td>96.20</td>\n",
              "      <td>79833891</td>\n",
              "      <td>22.494199</td>\n",
              "      <td>22.628520</td>\n",
              "      <td>22.084287</td>\n",
              "      <td>22.278822</td>\n",
              "      <td>319335564</td>\n",
              "      <td>0.0</td>\n",
              "      <td>1.0</td>\n",
              "    </tr>\n",
              "    <tr>\n",
              "      <th>4</th>\n",
              "      <td>AAPL</td>\n",
              "      <td>2016-01-19 00:00:00+00:00</td>\n",
              "      <td>96.66</td>\n",
              "      <td>98.65</td>\n",
              "      <td>95.5000</td>\n",
              "      <td>98.41</td>\n",
              "      <td>53087747</td>\n",
              "      <td>22.385352</td>\n",
              "      <td>22.846214</td>\n",
              "      <td>22.116710</td>\n",
              "      <td>22.790632</td>\n",
              "      <td>212350988</td>\n",
              "      <td>0.0</td>\n",
              "      <td>1.0</td>\n",
              "    </tr>\n",
              "  </tbody>\n",
              "</table>\n",
              "</div>"
            ],
            "text/plain": [
              "  symbol                       date  close  ...  adjVolume  divCash  splitFactor\n",
              "0   AAPL  2016-01-12 00:00:00+00:00  99.96  ...  196616908      0.0          1.0\n",
              "1   AAPL  2016-01-13 00:00:00+00:00  97.39  ...  249758524      0.0          1.0\n",
              "2   AAPL  2016-01-14 00:00:00+00:00  99.52  ...  252680508      0.0          1.0\n",
              "3   AAPL  2016-01-15 00:00:00+00:00  97.13  ...  319335564      0.0          1.0\n",
              "4   AAPL  2016-01-19 00:00:00+00:00  96.66  ...  212350988      0.0          1.0\n",
              "\n",
              "[5 rows x 14 columns]"
            ]
          },
          "metadata": {
            "tags": []
          },
          "execution_count": 43
        }
      ]
    },
    {
      "cell_type": "code",
      "metadata": {
        "colab": {
          "base_uri": "https://localhost:8080/",
          "height": 299
        },
        "id": "2uHJMUKaCWuH",
        "outputId": "e26ae1be-2444-483b-d507-b944a61188ea"
      },
      "source": [
        "df.tail()"
      ],
      "execution_count": 44,
      "outputs": [
        {
          "output_type": "execute_result",
          "data": {
            "text/html": [
              "<div>\n",
              "<style scoped>\n",
              "    .dataframe tbody tr th:only-of-type {\n",
              "        vertical-align: middle;\n",
              "    }\n",
              "\n",
              "    .dataframe tbody tr th {\n",
              "        vertical-align: top;\n",
              "    }\n",
              "\n",
              "    .dataframe thead th {\n",
              "        text-align: right;\n",
              "    }\n",
              "</style>\n",
              "<table border=\"1\" class=\"dataframe\">\n",
              "  <thead>\n",
              "    <tr style=\"text-align: right;\">\n",
              "      <th></th>\n",
              "      <th>symbol</th>\n",
              "      <th>date</th>\n",
              "      <th>close</th>\n",
              "      <th>high</th>\n",
              "      <th>low</th>\n",
              "      <th>open</th>\n",
              "      <th>volume</th>\n",
              "      <th>adjClose</th>\n",
              "      <th>adjHigh</th>\n",
              "      <th>adjLow</th>\n",
              "      <th>adjOpen</th>\n",
              "      <th>adjVolume</th>\n",
              "      <th>divCash</th>\n",
              "      <th>splitFactor</th>\n",
              "    </tr>\n",
              "  </thead>\n",
              "  <tbody>\n",
              "    <tr>\n",
              "      <th>1253</th>\n",
              "      <td>AAPL</td>\n",
              "      <td>2021-01-04 00:00:00+00:00</td>\n",
              "      <td>129.41</td>\n",
              "      <td>133.6116</td>\n",
              "      <td>126.760</td>\n",
              "      <td>133.52</td>\n",
              "      <td>143301887</td>\n",
              "      <td>129.41</td>\n",
              "      <td>133.6116</td>\n",
              "      <td>126.760</td>\n",
              "      <td>133.52</td>\n",
              "      <td>143301887</td>\n",
              "      <td>0.0</td>\n",
              "      <td>1.0</td>\n",
              "    </tr>\n",
              "    <tr>\n",
              "      <th>1254</th>\n",
              "      <td>AAPL</td>\n",
              "      <td>2021-01-05 00:00:00+00:00</td>\n",
              "      <td>131.01</td>\n",
              "      <td>131.7400</td>\n",
              "      <td>128.430</td>\n",
              "      <td>128.89</td>\n",
              "      <td>97664898</td>\n",
              "      <td>131.01</td>\n",
              "      <td>131.7400</td>\n",
              "      <td>128.430</td>\n",
              "      <td>128.89</td>\n",
              "      <td>97664898</td>\n",
              "      <td>0.0</td>\n",
              "      <td>1.0</td>\n",
              "    </tr>\n",
              "    <tr>\n",
              "      <th>1255</th>\n",
              "      <td>AAPL</td>\n",
              "      <td>2021-01-06 00:00:00+00:00</td>\n",
              "      <td>126.60</td>\n",
              "      <td>131.0499</td>\n",
              "      <td>126.382</td>\n",
              "      <td>127.72</td>\n",
              "      <td>155087970</td>\n",
              "      <td>126.60</td>\n",
              "      <td>131.0499</td>\n",
              "      <td>126.382</td>\n",
              "      <td>127.72</td>\n",
              "      <td>155087970</td>\n",
              "      <td>0.0</td>\n",
              "      <td>1.0</td>\n",
              "    </tr>\n",
              "    <tr>\n",
              "      <th>1256</th>\n",
              "      <td>AAPL</td>\n",
              "      <td>2021-01-07 00:00:00+00:00</td>\n",
              "      <td>130.92</td>\n",
              "      <td>131.6300</td>\n",
              "      <td>127.860</td>\n",
              "      <td>128.36</td>\n",
              "      <td>109578157</td>\n",
              "      <td>130.92</td>\n",
              "      <td>131.6300</td>\n",
              "      <td>127.860</td>\n",
              "      <td>128.36</td>\n",
              "      <td>109578157</td>\n",
              "      <td>0.0</td>\n",
              "      <td>1.0</td>\n",
              "    </tr>\n",
              "    <tr>\n",
              "      <th>1257</th>\n",
              "      <td>AAPL</td>\n",
              "      <td>2021-01-08 00:00:00+00:00</td>\n",
              "      <td>132.05</td>\n",
              "      <td>132.6300</td>\n",
              "      <td>130.230</td>\n",
              "      <td>132.43</td>\n",
              "      <td>105158245</td>\n",
              "      <td>132.05</td>\n",
              "      <td>132.6300</td>\n",
              "      <td>130.230</td>\n",
              "      <td>132.43</td>\n",
              "      <td>105158245</td>\n",
              "      <td>0.0</td>\n",
              "      <td>1.0</td>\n",
              "    </tr>\n",
              "  </tbody>\n",
              "</table>\n",
              "</div>"
            ],
            "text/plain": [
              "     symbol                       date   close  ...  adjVolume  divCash  splitFactor\n",
              "1253   AAPL  2021-01-04 00:00:00+00:00  129.41  ...  143301887      0.0          1.0\n",
              "1254   AAPL  2021-01-05 00:00:00+00:00  131.01  ...   97664898      0.0          1.0\n",
              "1255   AAPL  2021-01-06 00:00:00+00:00  126.60  ...  155087970      0.0          1.0\n",
              "1256   AAPL  2021-01-07 00:00:00+00:00  130.92  ...  109578157      0.0          1.0\n",
              "1257   AAPL  2021-01-08 00:00:00+00:00  132.05  ...  105158245      0.0          1.0\n",
              "\n",
              "[5 rows x 14 columns]"
            ]
          },
          "metadata": {
            "tags": []
          },
          "execution_count": 44
        }
      ]
    },
    {
      "cell_type": "code",
      "metadata": {
        "id": "TTBH8kiJCZA9"
      },
      "source": [
        "df1=df.reset_index()['close']"
      ],
      "execution_count": 45,
      "outputs": []
    },
    {
      "cell_type": "code",
      "metadata": {
        "colab": {
          "base_uri": "https://localhost:8080/"
        },
        "id": "TXNibJeJCcKT",
        "outputId": "6e94a2b9-7cb1-4b04-ba95-f74df330e79f"
      },
      "source": [
        "df1.tail(500)"
      ],
      "execution_count": 48,
      "outputs": [
        {
          "output_type": "execute_result",
          "data": {
            "text/plain": [
              "758     154.94\n",
              "759     155.86\n",
              "760     156.82\n",
              "761     153.30\n",
              "762     153.92\n",
              "         ...  \n",
              "1253    129.41\n",
              "1254    131.01\n",
              "1255    126.60\n",
              "1256    130.92\n",
              "1257    132.05\n",
              "Name: close, Length: 500, dtype: float64"
            ]
          },
          "metadata": {
            "tags": []
          },
          "execution_count": 48
        }
      ]
    },
    {
      "cell_type": "code",
      "metadata": {
        "colab": {
          "base_uri": "https://localhost:8080/",
          "height": 282
        },
        "id": "vaeaxLmzCdMs",
        "outputId": "4704d2d6-e5ad-4ac9-cf8c-caa4d6cb0565"
      },
      "source": [
        "import matplotlib.pyplot as plt\r\n",
        "plt.plot(df1)"
      ],
      "execution_count": 47,
      "outputs": [
        {
          "output_type": "execute_result",
          "data": {
            "text/plain": [
              "[<matplotlib.lines.Line2D at 0x7fb92d611550>]"
            ]
          },
          "metadata": {
            "tags": []
          },
          "execution_count": 47
        },
        {
          "output_type": "display_data",
          "data": {
            "image/png": "[encoded data removed]",
            "text/plain": [
              "<Figure size 432x288 with 1 Axes>"
            ]
          },
          "metadata": {
            "tags": [],
            "needs_background": "light"
          }
        }
      ]
    },
    {
      "cell_type": "code",
      "metadata": {
        "id": "RnBFyoNdCgsr"
      },
      "source": [
        "\r\n",
        "### LSTM are sensitive to the scale of the data. so we apply MinMax scaler\r\n"
      ],
      "execution_count": 49,
      "outputs": []
    },
    {
      "cell_type": "code",
      "metadata": {
        "id": "czVE07lfCwiS"
      },
      "source": [
        "import numpy as np"
      ],
      "execution_count": 50,
      "outputs": []
    },
    {
      "cell_type": "code",
      "metadata": {
        "colab": {
          "base_uri": "https://localhost:8080/"
        },
        "id": "9hrhOknlCyJg",
        "outputId": "35d22d7b-4ae3-42f6-f0b6-88c9b3cd9280"
      },
      "source": [
        "df1"
      ],
      "execution_count": 51,
      "outputs": [
        {
          "output_type": "execute_result",
          "data": {
            "text/plain": [
              "0        99.96\n",
              "1        97.39\n",
              "2        99.52\n",
              "3        97.13\n",
              "4        96.66\n",
              "         ...  \n",
              "1253    129.41\n",
              "1254    131.01\n",
              "1255    126.60\n",
              "1256    130.92\n",
              "1257    132.05\n",
              "Name: close, Length: 1258, dtype: float64"
            ]
          },
          "metadata": {
            "tags": []
          },
          "execution_count": 51
        }
      ]
    },
    {
      "cell_type": "code",
      "metadata": {
        "id": "OCsvdueeC0QX"
      },
      "source": [
        "from sklearn.preprocessing import MinMaxScaler\r\n",
        "scaler=MinMaxScaler(feature_range=(0,1))\r\n",
        "df1=scaler.fit_transform(np.array(df1).reshape(-1,1))"
      ],
      "execution_count": 52,
      "outputs": []
    },
    {
      "cell_type": "code",
      "metadata": {
        "colab": {
          "base_uri": "https://localhost:8080/"
        },
        "id": "K9XVzEL5C4yt",
        "outputId": "786a710c-4973-414e-9bdf-52e3d28ac99c"
      },
      "source": [
        "print(df1)"
      ],
      "execution_count": 53,
      "outputs": [
        {
          "output_type": "stream",
          "text": [
            "[[0.02313891]\n",
            " [0.01695731]\n",
            " [0.02208058]\n",
            " ...\n",
            " [0.08721587]\n",
            " [0.09760673]\n",
            " [0.10032471]]\n"
          ],
          "name": "stdout"
        }
      ]
    },
    {
      "cell_type": "code",
      "metadata": {
        "id": "BBSvNqoSC6Wt"
      },
      "source": [
        "\r\n",
        "##splitting dataset into train and test split\r\n",
        "training_size=int(len(df1)*0.65)\r\n",
        "test_size=len(df1)-training_size\r\n",
        "train_data,test_data=df1[0:training_size,:],df1[training_size:len(df1),:1]\r\n"
      ],
      "execution_count": 54,
      "outputs": []
    },
    {
      "cell_type": "code",
      "metadata": {
        "colab": {
          "base_uri": "https://localhost:8080/"
        },
        "id": "74BI6LpbC-h8",
        "outputId": "dfd9ddb7-097e-4c98-e7f4-1c4a16a57d14"
      },
      "source": [
        "training_size,test_size"
      ],
      "execution_count": 55,
      "outputs": [
        {
          "output_type": "execute_result",
          "data": {
            "text/plain": [
              "(817, 441)"
            ]
          },
          "metadata": {
            "tags": []
          },
          "execution_count": 55
        }
      ]
    },
    {
      "cell_type": "code",
      "metadata": {
        "colab": {
          "base_uri": "https://localhost:8080/"
        },
        "id": "zSsOu035C_Jf",
        "outputId": "71e74f2d-3b78-4136-e226-382a4b09e109"
      },
      "source": [
        "train_data"
      ],
      "execution_count": 56,
      "outputs": [
        {
          "output_type": "execute_result",
          "data": {
            "text/plain": [
              "array([[0.02313891],\n",
              "       [0.01695731],\n",
              "       [0.02208058],\n",
              "       [0.01633193],\n",
              "       [0.01520144],\n",
              "       [0.01551413],\n",
              "       [0.01433554],\n",
              "       [0.02665063],\n",
              "       [0.02188815],\n",
              "       [0.02321106],\n",
              "       [0.0074083 ],\n",
              "       [0.00901984],\n",
              "       [0.01683704],\n",
              "       [0.01464823],\n",
              "       [0.00995791],\n",
              "       [0.0144558 ],\n",
              "       [0.01505713],\n",
              "       [0.00885147],\n",
              "       [0.01123271],\n",
              "       [0.01118461],\n",
              "       [0.0094528 ],\n",
              "       [0.00808178],\n",
              "       [0.00877931],\n",
              "       [0.01515334],\n",
              "       [0.01871317],\n",
              "       [0.01423933],\n",
              "       [0.01371016],\n",
              "       [0.01573061],\n",
              "       [0.01046302],\n",
              "       [0.01385448],\n",
              "       [0.01544197],\n",
              "       [0.01580277],\n",
              "       [0.0152736 ],\n",
              "       [0.02450992],\n",
              "       [0.02503909],\n",
              "       [0.02684305],\n",
              "       [0.03047505],\n",
              "       [0.02773301],\n",
              "       [0.02571257],\n",
              "       [0.02592904],\n",
              "       [0.02604931],\n",
              "       [0.02867108],\n",
              "       [0.02929645],\n",
              "       [0.03425135],\n",
              "       [0.03759471],\n",
              "       [0.03718581],\n",
              "       [0.03747444],\n",
              "       [0.03745039],\n",
              "       [0.03939868],\n",
              "       [0.03797956],\n",
              "       [0.03687312],\n",
              "       [0.03571858],\n",
              "       [0.04170776],\n",
              "       [0.04622971],\n",
              "       [0.04485869],\n",
              "       [0.04726398],\n",
              "       [0.04998196],\n",
              "       [0.04683103],\n",
              "       [0.04959711],\n",
              "       [0.04377631],\n",
              "       [0.04406494],\n",
              "       [0.04493085],\n",
              "       [0.04834636],\n",
              "       [0.05219483],\n",
              "       [0.05233915],\n",
              "       [0.04692724],\n",
              "       [0.0412267 ],\n",
              "       [0.03985568],\n",
              "       [0.04038485],\n",
              "       [0.03759471],\n",
              "       [0.03689717],\n",
              "       [0.035454  ],\n",
              "       [0.03369814],\n",
              "       [0.01799158],\n",
              "       [0.01079976],\n",
              "       [0.00817799],\n",
              "       [0.00793746],\n",
              "       [0.01164161],\n",
              "       [0.00926037],\n",
              "       [0.00697535],\n",
              "       [0.00572459],\n",
              "       [0.00589296],\n",
              "       [0.0074083 ],\n",
              "       [0.00521948],\n",
              "       [0.        ],\n",
              "       [0.00043295],\n",
              "       [0.00851473],\n",
              "       [0.00757667],\n",
              "       [0.01015033],\n",
              "       [0.00928443],\n",
              "       [0.01173782],\n",
              "       [0.01464823],\n",
              "       [0.018184  ],\n",
              "       [0.02232111],\n",
              "       [0.02422129],\n",
              "       [0.02407697],\n",
              "       [0.02289838],\n",
              "       [0.01953097],\n",
              "       [0.01775105],\n",
              "       [0.01823211],\n",
              "       [0.01993987],\n",
              "       [0.02090198],\n",
              "       [0.02068551],\n",
              "       [0.02239327],\n",
              "       [0.02042093],\n",
              "       [0.01683704],\n",
              "       [0.01712568],\n",
              "       [0.01635598],\n",
              "       [0.01734215],\n",
              "       [0.01200241],\n",
              "       [0.01144919],\n",
              "       [0.01339747],\n",
              "       [0.01253157],\n",
              "       [0.01385448],\n",
              "       [0.00736019],\n",
              "       [0.004089  ],\n",
              "       [0.0078172 ],\n",
              "       [0.00976548],\n",
              "       [0.01265183],\n",
              "       [0.01334937],\n",
              "       [0.01118461],\n",
              "       [0.01248346],\n",
              "       [0.01346963],\n",
              "       [0.01524955],\n",
              "       [0.01597114],\n",
              "       [0.01702946],\n",
              "       [0.01570655],\n",
              "       [0.02032471],\n",
              "       [0.02030066],\n",
              "       [0.02282622],\n",
              "       [0.02292243],\n",
              "       [0.02313891],\n",
              "       [0.0218641 ],\n",
              "       [0.02001203],\n",
              "       [0.01683704],\n",
              "       [0.0152255 ],\n",
              "       [0.03033073],\n",
              "       [0.03367408],\n",
              "       [0.0333614 ],\n",
              "       [0.03778713],\n",
              "       [0.03401082],\n",
              "       [0.03716176],\n",
              "       [0.03735418],\n",
              "       [0.0412267 ],\n",
              "       [0.04336741],\n",
              "       [0.04442574],\n",
              "       [0.04247745],\n",
              "       [0.04230908],\n",
              "       [0.0429104 ],\n",
              "       [0.04603728],\n",
              "       [0.04579675],\n",
              "       [0.04541191],\n",
              "       [0.04507517],\n",
              "       [0.04574865],\n",
              "       [0.04370415],\n",
              "       [0.04452195],\n",
              "       [0.04254961],\n",
              "       [0.04144317],\n",
              "       [0.03992784],\n",
              "       [0.03963921],\n",
              "       [0.03766687],\n",
              "       [0.0379074 ],\n",
              "       [0.03942273],\n",
              "       [0.04182802],\n",
              "       [0.04175586],\n",
              "       [0.04334336],\n",
              "       [0.03651233],\n",
              "       [0.03076368],\n",
              "       [0.0363199 ],\n",
              "       [0.04235719],\n",
              "       [0.0515454 ],\n",
              "       [0.06068551],\n",
              "       [0.05912207],\n",
              "       [0.05589898],\n",
              "       [0.05587492],\n",
              "       [0.05582682],\n",
              "       [0.05840048],\n",
              "       [0.05380637],\n",
              "       [0.05421527],\n",
              "       [0.05472038],\n",
              "       [0.05678894],\n",
              "       [0.05253157],\n",
              "       [0.05462417],\n",
              "       [0.05334937],\n",
              "       [0.05450391],\n",
              "       [0.05462417],\n",
              "       [0.05664462],\n",
              "       [0.05705352],\n",
              "       [0.06184005],\n",
              "       [0.06244137],\n",
              "       [0.06494287],\n",
              "       [0.06407697],\n",
              "       [0.06564041],\n",
              "       [0.06544799],\n",
              "       [0.06525556],\n",
              "       [0.06441371],\n",
              "       [0.06426939],\n",
              "       [0.06316296],\n",
              "       [0.06568851],\n",
              "       [0.06713169],\n",
              "       [0.06073361],\n",
              "       [0.05806374],\n",
              "       [0.05623572],\n",
              "       [0.05580277],\n",
              "       [0.05087192],\n",
              "       [0.05111245],\n",
              "       [0.04687913],\n",
              "       [0.0444979 ],\n",
              "       [0.0482742 ],\n",
              "       [0.04983764],\n",
              "       [0.04940469],\n",
              "       [0.04197234],\n",
              "       [0.04351173],\n",
              "       [0.03696933],\n",
              "       [0.04033674],\n",
              "       [0.04726398],\n",
              "       [0.04716777],\n",
              "       [0.04743235],\n",
              "       [0.05144919],\n",
              "       [0.05161756],\n",
              "       [0.05024654],\n",
              "       [0.05159351],\n",
              "       [0.05106434],\n",
              "       [0.05079976],\n",
              "       [0.04853879],\n",
              "       [0.04606133],\n",
              "       [0.0470475 ],\n",
              "       [0.04514732],\n",
              "       [0.04716777],\n",
              "       [0.04976548],\n",
              "       [0.05238725],\n",
              "       [0.05678894],\n",
              "       [0.0552255 ],\n",
              "       [0.0597715 ],\n",
              "       [0.0597715 ],\n",
              "       [0.06128683],\n",
              "       [0.06164762],\n",
              "       [0.06325917],\n",
              "       [0.06400481],\n",
              "       [0.06426939],\n",
              "       [0.06241732],\n",
              "       [0.06297054],\n",
              "       [0.06475045],\n",
              "       [0.06354781],\n",
              "       [0.06347565],\n",
              "       [0.06128683],\n",
              "       [0.06208058],\n",
              "       [0.06176789],\n",
              "       [0.06318701],\n",
              "       [0.06631389],\n",
              "       [0.06891161],\n",
              "       [0.06920024],\n",
              "       [0.07073963],\n",
              "       [0.06953698],\n",
              "       [0.06903187],\n",
              "       [0.07134095],\n",
              "       [0.0713169 ],\n",
              "       [0.07081179],\n",
              "       [0.07134095],\n",
              "       [0.07153337],\n",
              "       [0.07126879],\n",
              "       [0.0758629 ],\n",
              "       [0.07600722],\n",
              "       [0.07603127],\n",
              "       [0.07526158],\n",
              "       [0.07458809],\n",
              "       [0.09238725],\n",
              "       [0.09185809],\n",
              "       [0.093181  ],\n",
              "       [0.0960914 ],\n",
              "       [0.09907396],\n",
              "       [0.10030066],\n",
              "       [0.10121467],\n",
              "       [0.10049308],\n",
              "       [0.10330728],\n",
              "       [0.10746843],\n",
              "       [0.10864702],\n",
              "       [0.10825015],\n",
              "       [0.10915213],\n",
              "       [0.11150932],\n",
              "       [0.11249549],\n",
              "       [0.11110042],\n",
              "       [0.11141311],\n",
              "       [0.11206254],\n",
              "       [0.11220686],\n",
              "       [0.11894167],\n",
              "       [0.11694528],\n",
              "       [0.11891762],\n",
              "       [0.11785929],\n",
              "       [0.11829224],\n",
              "       [0.11704149],\n",
              "       [0.1162718 ],\n",
              "       [0.11737823],\n",
              "       [0.11752255],\n",
              "       [0.11701744],\n",
              "       [0.12055322],\n",
              "       [0.12110643],\n",
              "       [0.11942273],\n",
              "       [0.12295851],\n",
              "       [0.11906194],\n",
              "       [0.1228623 ],\n",
              "       [0.12165965],\n",
              "       [0.12098617],\n",
              "       [0.12156344],\n",
              "       [0.12858689],\n",
              "       [0.12935658],\n",
              "       [0.12889958],\n",
              "       [0.12825015],\n",
              "       [0.12834636],\n",
              "       [0.13092002],\n",
              "       [0.12911606],\n",
              "       [0.12825015],\n",
              "       [0.12748046],\n",
              "       [0.12707156],\n",
              "       [0.12336741],\n",
              "       [0.12377631],\n",
              "       [0.12197234],\n",
              "       [0.12384847],\n",
              "       [0.12233313],\n",
              "       [0.12108238],\n",
              "       [0.12531569],\n",
              "       [0.12490679],\n",
              "       [0.12820204],\n",
              "       [0.13034275],\n",
              "       [0.12829826],\n",
              "       [0.12856284],\n",
              "       [0.1282261 ],\n",
              "       [0.1352736 ],\n",
              "       [0.13751052],\n",
              "       [0.13642814],\n",
              "       [0.13515334],\n",
              "       [0.1409982 ],\n",
              "       [0.15073963],\n",
              "       [0.15309681],\n",
              "       [0.15134095],\n",
              "       [0.1530006 ],\n",
              "       [0.15817198],\n",
              "       [0.15720986],\n",
              "       [0.15665664],\n",
              "       [0.14410102],\n",
              "       [0.14960914],\n",
              "       [0.15085989],\n",
              "       [0.15309681],\n",
              "       [0.15263981],\n",
              "       [0.15153337],\n",
              "       [0.15280818],\n",
              "       [0.1521828 ],\n",
              "       [0.15232712],\n",
              "       [0.1501383 ],\n",
              "       [0.15114853],\n",
              "       [0.15660854],\n",
              "       [0.1529525 ],\n",
              "       [0.15420325],\n",
              "       [0.15641612],\n",
              "       [0.1555021 ],\n",
              "       [0.1410463 ],\n",
              "       [0.13248346],\n",
              "       [0.13529765],\n",
              "       [0.13185809],\n",
              "       [0.12976548],\n",
              "       [0.12490679],\n",
              "       [0.13469633],\n",
              "       [0.13149729],\n",
              "       [0.13356584],\n",
              "       [0.13298857],\n",
              "       [0.13455201],\n",
              "       [0.13344558],\n",
              "       [0.12841852],\n",
              "       [0.13346963],\n",
              "       [0.12829826],\n",
              "       [0.12911606],\n",
              "       [0.1278653 ],\n",
              "       [0.12928443],\n",
              "       [0.12601323],\n",
              "       [0.1295009 ],\n",
              "       [0.13161756],\n",
              "       [0.13274805],\n",
              "       [0.13325316],\n",
              "       [0.1381359 ],\n",
              "       [0.14119062],\n",
              "       [0.14244137],\n",
              "       [0.14369212],\n",
              "       [0.1459531 ],\n",
              "       [0.1443175 ],\n",
              "       [0.14414913],\n",
              "       [0.14852676],\n",
              "       [0.1500902 ],\n",
              "       [0.15182201],\n",
              "       [0.14484666],\n",
              "       [0.14229705],\n",
              "       [0.14044498],\n",
              "       [0.14361996],\n",
              "       [0.16067348],\n",
              "       [0.15689717],\n",
              "       [0.15886951],\n",
              "       [0.16469032],\n",
              "       [0.16774504],\n",
              "       [0.17010222],\n",
              "       [0.15629585],\n",
              "       [0.16149128],\n",
              "       [0.16719182],\n",
              "       [0.17140108],\n",
              "       [0.16983764],\n",
              "       [0.16240529],\n",
              "       [0.16153939],\n",
              "       [0.16084185],\n",
              "       [0.16702345],\n",
              "       [0.16750451],\n",
              "       [0.16579675],\n",
              "       [0.16721587],\n",
              "       [0.17108839],\n",
              "       [0.17455201],\n",
              "       [0.17561034],\n",
              "       [0.17717378],\n",
              "       [0.17729405],\n",
              "       [0.17255562],\n",
              "       [0.17214672],\n",
              "       [0.17058328],\n",
              "       [0.16425737],\n",
              "       [0.17116055],\n",
              "       [0.16962117],\n",
              "       [0.16671076],\n",
              "       [0.16341551],\n",
              "       [0.16726398],\n",
              "       [0.16435358],\n",
              "       [0.1644979 ],\n",
              "       [0.15809982],\n",
              "       [0.15165364],\n",
              "       [0.1480457 ],\n",
              "       [0.14482261],\n",
              "       [0.15105232],\n",
              "       [0.15367408],\n",
              "       [0.15138906],\n",
              "       [0.1534095 ],\n",
              "       [0.15266386],\n",
              "       [0.15427541],\n",
              "       [0.15187011],\n",
              "       [0.15646422],\n",
              "       [0.15624775],\n",
              "       [0.1575466 ],\n",
              "       [0.15769092],\n",
              "       [0.15925436],\n",
              "       [0.15793145],\n",
              "       [0.16031269],\n",
              "       [0.16726398],\n",
              "       [0.1686831 ],\n",
              "       [0.16697535],\n",
              "       [0.15788334],\n",
              "       [0.15853277],\n",
              "       [0.15834035],\n",
              "       [0.16057727],\n",
              "       [0.15891762],\n",
              "       [0.16132291],\n",
              "       [0.17488876],\n",
              "       [0.18371618],\n",
              "       [0.18929645],\n",
              "       [0.18412508],\n",
              "       [0.18705953],\n",
              "       [0.19761876],\n",
              "       [0.20182802],\n",
              "       [0.20317498],\n",
              "       [0.20661455],\n",
              "       [0.20574865],\n",
              "       [0.20283824],\n",
              "       [0.20115454],\n",
              "       [0.19482862],\n",
              "       [0.18939266],\n",
              "       [0.19425135],\n",
              "       [0.19196633],\n",
              "       [0.19155743],\n",
              "       [0.19915815],\n",
              "       [0.20353578],\n",
              "       [0.20355983],\n",
              "       [0.20144317],\n",
              "       [0.19898978],\n",
              "       [0.19035478],\n",
              "       [0.19605532],\n",
              "       [0.19413109],\n",
              "       [0.19112447],\n",
              "       [0.19073963],\n",
              "       [0.18922429],\n",
              "       [0.18996993],\n",
              "       [0.1900902 ],\n",
              "       [0.19802766],\n",
              "       [0.19569453],\n",
              "       [0.19706554],\n",
              "       [0.19694528],\n",
              "       [0.20115454],\n",
              "       [0.2070475 ],\n",
              "       [0.20252556],\n",
              "       [0.20206855],\n",
              "       [0.20365604],\n",
              "       [0.20365604],\n",
              "       [0.19297655],\n",
              "       [0.19304871],\n",
              "       [0.19420325],\n",
              "       [0.18975346],\n",
              "       [0.19704149],\n",
              "       [0.19696933],\n",
              "       [0.19889357],\n",
              "       [0.20363199],\n",
              "       [0.20206855],\n",
              "       [0.20202044],\n",
              "       [0.20192423],\n",
              "       [0.20430547],\n",
              "       [0.20865905],\n",
              "       [0.20649429],\n",
              "       [0.21349369],\n",
              "       [0.21387853],\n",
              "       [0.2119543 ],\n",
              "       [0.20844257],\n",
              "       [0.20853879],\n",
              "       [0.20175586],\n",
              "       [0.19427541],\n",
              "       [0.19523752],\n",
              "       [0.18669874],\n",
              "       [0.1843175 ],\n",
              "       [0.18542393],\n",
              "       [0.18626578],\n",
              "       [0.16875526],\n",
              "       [0.15911004],\n",
              "       [0.17484065],\n",
              "       [0.16644618],\n",
              "       [0.15588695],\n",
              "       [0.15891762],\n",
              "       [0.17407096],\n",
              "       [0.17799158],\n",
              "       [0.18527962],\n",
              "       [0.19879735],\n",
              "       [0.19745039],\n",
              "       [0.19605532],\n",
              "       [0.19417919],\n",
              "       [0.19761876],\n",
              "       [0.20483464],\n",
              "       [0.213181  ],\n",
              "       [0.21178593],\n",
              "       [0.2111365 ],\n",
              "       [0.20363199],\n",
              "       [0.20654239],\n",
              "       [0.20800962],\n",
              "       [0.20764883],\n",
              "       [0.20370415],\n",
              "       [0.20829826],\n",
              "       [0.21561034],\n",
              "       [0.21979555],\n",
              "       [0.21558629],\n",
              "       [0.21190619],\n",
              "       [0.2124113 ],\n",
              "       [0.21089597],\n",
              "       [0.20435358],\n",
              "       [0.20420926],\n",
              "       [0.19466025],\n",
              "       [0.18883945],\n",
              "       [0.17943476],\n",
              "       [0.19826819],\n",
              "       [0.18761275],\n",
              "       [0.18313891],\n",
              "       [0.18626578],\n",
              "       [0.18361996],\n",
              "       [0.18773301],\n",
              "       [0.19547805],\n",
              "       [0.19834035],\n",
              "       [0.18770896],\n",
              "       [0.1917258 ],\n",
              "       [0.19942273],\n",
              "       [0.19747444],\n",
              "       [0.20156344],\n",
              "       [0.20298256],\n",
              "       [0.20560433],\n",
              "       [0.21142514],\n",
              "       [0.21046302],\n",
              "       [0.19834035],\n",
              "       [0.18131088],\n",
              "       [0.18015634],\n",
              "       [0.17462417],\n",
              "       [0.17633193],\n",
              "       [0.17770295],\n",
              "       [0.17313289],\n",
              "       [0.18020445],\n",
              "       [0.18944077],\n",
              "       [0.2074083 ],\n",
              "       [0.20817799],\n",
              "       [0.22487072],\n",
              "       [0.22806975],\n",
              "       [0.23021046],\n",
              "       [0.2333614 ],\n",
              "       [0.23980758],\n",
              "       [0.2363199 ],\n",
              "       [0.23526158],\n",
              "       [0.23114853],\n",
              "       [0.23533373],\n",
              "       [0.23247144],\n",
              "       [0.23083584],\n",
              "       [0.23401082],\n",
              "       [0.23288034],\n",
              "       [0.23576669],\n",
              "       [0.23526158],\n",
              "       [0.23629585],\n",
              "       [0.23466025],\n",
              "       [0.23369814],\n",
              "       [0.2321828 ],\n",
              "       [0.24028863],\n",
              "       [0.24411305],\n",
              "       [0.24767288],\n",
              "       [0.24928443],\n",
              "       [0.24803367],\n",
              "       [0.24380036],\n",
              "       [0.24266987],\n",
              "       [0.24519543],\n",
              "       [0.24139507],\n",
              "       [0.2416356 ],\n",
              "       [0.23692123],\n",
              "       [0.2366807 ],\n",
              "       [0.22934456],\n",
              "       [0.23129284],\n",
              "       [0.22879134],\n",
              "       [0.22749248],\n",
              "       [0.22087793],\n",
              "       [0.22631389],\n",
              "       [0.22566446],\n",
              "       [0.22888755],\n",
              "       [0.22794949],\n",
              "       [0.23292844],\n",
              "       [0.22508719],\n",
              "       [0.22864702],\n",
              "       [0.23482862],\n",
              "       [0.24110643],\n",
              "       [0.24055322],\n",
              "       [0.23461215],\n",
              "       [0.24218882],\n",
              "       [0.2429104 ],\n",
              "       [0.24190018],\n",
              "       [0.24319904],\n",
              "       [0.24067348],\n",
              "       [0.24423331],\n",
              "       [0.24317498],\n",
              "       [0.24358388],\n",
              "       [0.24692724],\n",
              "       [0.25130487],\n",
              "       [0.24983764],\n",
              "       [0.24206855],\n",
              "       [0.23949489],\n",
              "       [0.2404089 ],\n",
              "       [0.26737222],\n",
              "       [0.28153939],\n",
              "       [0.28298256],\n",
              "       [0.28558028],\n",
              "       [0.2808659 ],\n",
              "       [0.28120265],\n",
              "       [0.28512327],\n",
              "       [0.28187613],\n",
              "       [0.28509922],\n",
              "       [0.28721587],\n",
              "       [0.28839447],\n",
              "       [0.29580277],\n",
              "       [0.30604931],\n",
              "       [0.30095009],\n",
              "       [0.29993987],\n",
              "       [0.29996392],\n",
              "       [0.30102225],\n",
              "       [0.30263379],\n",
              "       [0.30691521],\n",
              "       [0.31114853],\n",
              "       [0.31903788],\n",
              "       [0.32396873],\n",
              "       [0.33022249],\n",
              "       [0.33197835],\n",
              "       [0.32839447],\n",
              "       [0.31932652],\n",
              "       [0.31499699],\n",
              "       [0.30785328],\n",
              "       [0.32113049],\n",
              "       [0.31444378],\n",
              "       [0.32728803],\n",
              "       [0.32110643],\n",
              "       [0.3067709 ],\n",
              "       [0.3076368 ],\n",
              "       [0.30794949],\n",
              "       [0.31194227],\n",
              "       [0.30624173],\n",
              "       [0.31377029],\n",
              "       [0.3171377 ],\n",
              "       [0.31288034],\n",
              "       [0.32377631],\n",
              "       [0.32567649],\n",
              "       [0.32933253],\n",
              "       [0.33419122],\n",
              "       [0.34090198],\n",
              "       [0.33108839],\n",
              "       [0.32218882],\n",
              "       [0.32093806],\n",
              "       [0.32839447],\n",
              "       [0.30311485],\n",
              "       [0.29852075],\n",
              "       [0.31694528],\n",
              "       [0.30552014],\n",
              "       [0.31704149],\n",
              "       [0.31473241],\n",
              "       [0.30229705],\n",
              "       [0.31021046],\n",
              "       [0.31343355],\n",
              "       [0.31843656],\n",
              "       [0.30006013],\n",
              "       [0.31138906],\n",
              "       [0.30297054],\n",
              "       [0.29320505],\n",
              "       [0.29575466],\n",
              "       [0.30912808],\n",
              "       [0.31720986],\n",
              "       [0.28175586],\n",
              "       [0.2675887 ],\n",
              "       [0.27283223],\n",
              "       [0.28769693],\n",
              "       [0.28418521],\n",
              "       [0.27451594],\n",
              "       [0.24974143],\n",
              "       [0.24507517],\n",
              "       [0.23201443],\n",
              "       [0.24310283],\n",
              "       [0.24820204],\n",
              "       [0.22975346],\n",
              "       [0.20839447],\n",
              "       [0.20791341],\n",
              "       [0.19711365],\n",
              "       [0.20271798],\n",
              "       [0.20180397],\n",
              "       [0.21791942],\n",
              "       [0.21457607],\n",
              "       [0.21224293],\n",
              "       [0.22725195],\n",
              "       [0.20769693],\n",
              "       [0.20295851],\n",
              "       [0.18797354],\n",
              "       [0.19064342],\n",
              "       [0.18831028],\n",
              "       [0.18944077],\n",
              "       [0.19389056],\n",
              "       [0.18073361],\n",
              "       [0.17702946],\n",
              "       [0.18215274],\n",
              "       [0.16969333],\n",
              "       [0.15992784],\n",
              "       [0.14525556],\n",
              "       [0.13587492],\n",
              "       [0.16074564],\n",
              "       [0.15829224],\n",
              "       [0.15848467],\n",
              "       [0.16211666],\n",
              "       [0.16254961],\n",
              "       [0.12471437],\n",
              "       [0.13931449],\n",
              "       [0.13852075],\n",
              "       [0.14530367],\n",
              "       [0.15146121],\n",
              "       [0.15263981],\n",
              "       [0.14900782],\n",
              "       [0.1434997 ],\n",
              "       [0.15088394],\n",
              "       [0.15538184],\n",
              "       [0.15759471],\n",
              "       [0.15990379],\n",
              "       [0.15143716],\n",
              "       [0.15292844],\n",
              "       [0.14999399],\n",
              "       [0.16216476],\n",
              "       [0.15865304],\n",
              "       [0.15475646],\n",
              "       [0.1801804 ],\n",
              "       [0.18304269],\n",
              "       [0.18323512],\n",
              "       [0.19461215],\n",
              "       [0.20165965],\n",
              "       [0.20180397],\n",
              "       [0.19386651],\n",
              "       [0.1925917 ],\n",
              "       [0.19023452],\n",
              "       [0.19374624],\n",
              "       [0.19203848],\n",
              "       [0.19352977],\n",
              "       [0.19261575],\n",
              "       [0.19384245],\n",
              "       [0.19648827],\n",
              "       [0.19415514],\n",
              "       [0.19874925],\n",
              "       [0.20177992],\n",
              "       [0.20202044],\n",
              "       [0.2033193 ],\n",
              "       [0.1991822 ],\n",
              "       [0.20355983],\n",
              "       [0.20567649],\n",
              "       [0.20490679],\n",
              "       [0.20247745],\n",
              "       [0.19761876],\n",
              "       [0.19860493],\n",
              "       [0.21301263],\n",
              "       [0.21784726],\n",
              "       [0.2197715 ],\n",
              "       [0.22463019],\n",
              "       [0.23037883],\n",
              "       [0.23494889],\n",
              "       [0.231365  ],\n",
              "       [0.23528563],\n",
              "       [0.2519543 ],\n",
              "       [0.24223692],\n",
              "       [0.2366807 ],\n",
              "       [0.23199038],\n",
              "       [0.23603127],\n",
              "       [0.23663259],\n",
              "       [0.2395911 ],\n",
              "       [0.24269393],\n",
              "       [0.24938064],\n",
              "       [0.25257968],\n",
              "       [0.25339747],\n",
              "       [0.25654841],\n",
              "       [0.26400481],\n",
              "       [0.26256164],\n",
              "       [0.26525556]])"
            ]
          },
          "metadata": {
            "tags": []
          },
          "execution_count": 56
        }
      ]
    },
    {
      "cell_type": "code",
      "metadata": {
        "id": "txwPYuPKDA-g"
      },
      "source": [
        "import numpy\r\n",
        "# convert an array of values into a dataset matrix\r\n",
        "def create_dataset(dataset, time_step=1):\r\n",
        "\tdataX, dataY = [], []\r\n",
        "\tfor i in range(len(dataset)-time_step-1):\r\n",
        "\t\ta = dataset[i:(i+time_step), 0]   ###i=0, 0,1,2,3-----99   100 \r\n",
        "\t\tdataX.append(a)\r\n",
        "\t\tdataY.append(dataset[i + time_step, 0])\r\n",
        "\treturn numpy.array(dataX), numpy.array(dataY)\r\n"
      ],
      "execution_count": 57,
      "outputs": []
    },
    {
      "cell_type": "code",
      "metadata": {
        "id": "ulRmDIdPDGAD"
      },
      "source": [
        "# reshape into X=t,t+1,t+2,t+3 and Y=t+4\r\n",
        "time_step = 100\r\n",
        "X_train, y_train = create_dataset(train_data, time_step)\r\n",
        "X_test, ytest = create_dataset(test_data, time_step)\r\n"
      ],
      "execution_count": 58,
      "outputs": []
    },
    {
      "cell_type": "code",
      "metadata": {
        "colab": {
          "base_uri": "https://localhost:8080/"
        },
        "id": "sYogGbJRDIrF",
        "outputId": "b32967f5-3365-4919-899f-f23896ea91fe"
      },
      "source": [
        "print(X_train.shape), print(y_train.shape)"
      ],
      "execution_count": 59,
      "outputs": [
        {
          "output_type": "stream",
          "text": [
            "(716, 100)\n",
            "(716,)\n"
          ],
          "name": "stdout"
        },
        {
          "output_type": "execute_result",
          "data": {
            "text/plain": [
              "(None, None)"
            ]
          },
          "metadata": {
            "tags": []
          },
          "execution_count": 59
        }
      ]
    },
    {
      "cell_type": "code",
      "metadata": {
        "colab": {
          "base_uri": "https://localhost:8080/"
        },
        "id": "Xm4Syt3VDLCv",
        "outputId": "64155e35-499f-4b5d-a8b5-2d17e4d6eb44"
      },
      "source": [
        "print(X_test.shape), print(ytest.shape)"
      ],
      "execution_count": 60,
      "outputs": [
        {
          "output_type": "stream",
          "text": [
            "(340, 100)\n",
            "(340,)\n"
          ],
          "name": "stdout"
        },
        {
          "output_type": "execute_result",
          "data": {
            "text/plain": [
              "(None, None)"
            ]
          },
          "metadata": {
            "tags": []
          },
          "execution_count": 60
        }
      ]
    },
    {
      "cell_type": "code",
      "metadata": {
        "id": "13U9n0S-DM6-"
      },
      "source": [
        "# reshape input to be [samples, time steps, features] which is required for LSTM\r\n",
        "X_train =X_train.reshape(X_train.shape[0],X_train.shape[1] , 1)\r\n",
        "X_test = X_test.reshape(X_test.shape[0],X_test.shape[1] , 1)\r\n"
      ],
      "execution_count": 61,
      "outputs": []
    },
    {
      "cell_type": "code",
      "metadata": {
        "id": "X-qGkoU_DQJC"
      },
      "source": [
        "### Create the Stacked LSTM model\r\n",
        "from tensorflow.keras.models import Sequential\r\n",
        "from tensorflow.keras.layers import Dense\r\n",
        "from tensorflow.keras.layers import LSTM\r\n"
      ],
      "execution_count": 62,
      "outputs": []
    },
    {
      "cell_type": "code",
      "metadata": {
        "id": "6GndFUfJDTSq"
      },
      "source": [
        "model=Sequential()\r\n",
        "model.add(LSTM(50,return_sequences=True,input_shape=(100,1)))\r\n",
        "model.add(LSTM(50,return_sequences=True))\r\n",
        "model.add(LSTM(50))\r\n",
        "model.add(Dense(1))\r\n",
        "model.compile(loss='mean_squared_error',optimizer='adam')"
      ],
      "execution_count": 63,
      "outputs": []
    },
    {
      "cell_type": "code",
      "metadata": {
        "colab": {
          "base_uri": "https://localhost:8080/"
        },
        "id": "B83KvX93DWWM",
        "outputId": "aa77753f-0d1e-482f-865f-d95f1cce8fcc"
      },
      "source": [
        "model.summary()"
      ],
      "execution_count": 64,
      "outputs": [
        {
          "output_type": "stream",
          "text": [
            "Model: \"sequential_1\"\n",
            "_________________________________________________________________\n",
            "Layer (type)                 Output Shape              Param #   \n",
            "=================================================================\n",
            "lstm_3 (LSTM)                (None, 100, 50)           10400     \n",
            "_________________________________________________________________\n",
            "lstm_4 (LSTM)                (None, 100, 50)           20200     \n",
            "_________________________________________________________________\n",
            "lstm_5 (LSTM)                (None, 50)                20200     \n",
            "_________________________________________________________________\n",
            "dense_1 (Dense)              (None, 1)                 51        \n",
            "=================================================================\n",
            "Total params: 50,851\n",
            "Trainable params: 50,851\n",
            "Non-trainable params: 0\n",
            "_________________________________________________________________\n"
          ],
          "name": "stdout"
        }
      ]
    },
    {
      "cell_type": "code",
      "metadata": {
        "colab": {
          "base_uri": "https://localhost:8080/"
        },
        "id": "1DcSBt5ODYef",
        "outputId": "a3d31b14-1a94-4c8c-dabb-e6c74c1e09a7"
      },
      "source": [
        "model.summary()"
      ],
      "execution_count": 65,
      "outputs": [
        {
          "output_type": "stream",
          "text": [
            "Model: \"sequential_1\"\n",
            "_________________________________________________________________\n",
            "Layer (type)                 Output Shape              Param #   \n",
            "=================================================================\n",
            "lstm_3 (LSTM)                (None, 100, 50)           10400     \n",
            "_________________________________________________________________\n",
            "lstm_4 (LSTM)                (None, 100, 50)           20200     \n",
            "_________________________________________________________________\n",
            "lstm_5 (LSTM)                (None, 50)                20200     \n",
            "_________________________________________________________________\n",
            "dense_1 (Dense)              (None, 1)                 51        \n",
            "=================================================================\n",
            "Total params: 50,851\n",
            "Trainable params: 50,851\n",
            "Non-trainable params: 0\n",
            "_________________________________________________________________\n"
          ],
          "name": "stdout"
        }
      ]
    },
    {
      "cell_type": "code",
      "metadata": {
        "colab": {
          "base_uri": "https://localhost:8080/"
        },
        "id": "Y1_IfeUODhvO",
        "outputId": "82fd2ea3-c2e5-4b4d-cd5e-5c8ec23a5f37"
      },
      "source": [
        "\r\n",
        "model.fit(X_train,y_train,validation_data=(X_test,ytest),epochs=100,batch_size=64,verbose=1)\r\n"
      ],
      "execution_count": 66,
      "outputs": [
        {
          "output_type": "stream",
          "text": [
            "Epoch 1/100\n",
            "12/12 [==============================] - 8s 274ms/step - loss: 0.0107 - val_loss: 0.0459\n",
            "Epoch 2/100\n",
            "12/12 [==============================] - 2s 194ms/step - loss: 0.0018 - val_loss: 0.0229\n",
            "Epoch 3/100\n",
            "12/12 [==============================] - 2s 194ms/step - loss: 6.0577e-04 - val_loss: 0.0207\n",
            "Epoch 4/100\n",
            "12/12 [==============================] - 2s 196ms/step - loss: 4.6472e-04 - val_loss: 0.0198\n",
            "Epoch 5/100\n",
            "12/12 [==============================] - 2s 193ms/step - loss: 2.9269e-04 - val_loss: 0.0185\n",
            "Epoch 6/100\n",
            "12/12 [==============================] - 2s 191ms/step - loss: 3.1472e-04 - val_loss: 0.0181\n",
            "Epoch 7/100\n",
            "12/12 [==============================] - 2s 194ms/step - loss: 3.0195e-04 - val_loss: 0.0175\n",
            "Epoch 8/100\n",
            "12/12 [==============================] - 3s 214ms/step - loss: 2.7155e-04 - val_loss: 0.0170\n",
            "Epoch 9/100\n",
            "12/12 [==============================] - 2s 196ms/step - loss: 2.6674e-04 - val_loss: 0.0165\n",
            "Epoch 10/100\n",
            "12/12 [==============================] - 2s 200ms/step - loss: 2.5181e-04 - val_loss: 0.0160\n",
            "Epoch 11/100\n",
            "12/12 [==============================] - 2s 203ms/step - loss: 2.6194e-04 - val_loss: 0.0154\n",
            "Epoch 12/100\n",
            "12/12 [==============================] - 2s 201ms/step - loss: 2.4031e-04 - val_loss: 0.0148\n",
            "Epoch 13/100\n",
            "12/12 [==============================] - 2s 204ms/step - loss: 2.8306e-04 - val_loss: 0.0144\n",
            "Epoch 14/100\n",
            "12/12 [==============================] - 2s 200ms/step - loss: 2.1978e-04 - val_loss: 0.0140\n",
            "Epoch 15/100\n",
            "12/12 [==============================] - 2s 203ms/step - loss: 2.1494e-04 - val_loss: 0.0140\n",
            "Epoch 16/100\n",
            "12/12 [==============================] - 2s 200ms/step - loss: 2.0394e-04 - val_loss: 0.0134\n",
            "Epoch 17/100\n",
            "12/12 [==============================] - 2s 200ms/step - loss: 2.0589e-04 - val_loss: 0.0133\n",
            "Epoch 18/100\n",
            "12/12 [==============================] - 2s 197ms/step - loss: 2.1466e-04 - val_loss: 0.0137\n",
            "Epoch 19/100\n",
            "12/12 [==============================] - 2s 201ms/step - loss: 1.9184e-04 - val_loss: 0.0132\n",
            "Epoch 20/100\n",
            "12/12 [==============================] - 2s 201ms/step - loss: 2.1338e-04 - val_loss: 0.0123\n",
            "Epoch 21/100\n",
            "12/12 [==============================] - 2s 200ms/step - loss: 2.1435e-04 - val_loss: 0.0128\n",
            "Epoch 22/100\n",
            "12/12 [==============================] - 2s 200ms/step - loss: 1.8806e-04 - val_loss: 0.0127\n",
            "Epoch 23/100\n",
            "12/12 [==============================] - 2s 200ms/step - loss: 1.9451e-04 - val_loss: 0.0136\n",
            "Epoch 24/100\n",
            "12/12 [==============================] - 2s 201ms/step - loss: 2.2135e-04 - val_loss: 0.0121\n",
            "Epoch 25/100\n",
            "12/12 [==============================] - 2s 204ms/step - loss: 1.6687e-04 - val_loss: 0.0125\n",
            "Epoch 26/100\n",
            "12/12 [==============================] - 2s 200ms/step - loss: 1.6840e-04 - val_loss: 0.0124\n",
            "Epoch 27/100\n",
            "12/12 [==============================] - 2s 201ms/step - loss: 1.6384e-04 - val_loss: 0.0125\n",
            "Epoch 28/100\n",
            "12/12 [==============================] - 2s 205ms/step - loss: 1.7708e-04 - val_loss: 0.0119\n",
            "Epoch 29/100\n",
            "12/12 [==============================] - 2s 205ms/step - loss: 1.5696e-04 - val_loss: 0.0118\n",
            "Epoch 30/100\n",
            "12/12 [==============================] - 2s 199ms/step - loss: 1.6472e-04 - val_loss: 0.0115\n",
            "Epoch 31/100\n",
            "12/12 [==============================] - 2s 202ms/step - loss: 1.6679e-04 - val_loss: 0.0111\n",
            "Epoch 32/100\n",
            "12/12 [==============================] - 2s 201ms/step - loss: 1.7897e-04 - val_loss: 0.0128\n",
            "Epoch 33/100\n",
            "12/12 [==============================] - 2s 198ms/step - loss: 1.9248e-04 - val_loss: 0.0117\n",
            "Epoch 34/100\n",
            "12/12 [==============================] - 2s 199ms/step - loss: 1.9334e-04 - val_loss: 0.0104\n",
            "Epoch 35/100\n",
            "12/12 [==============================] - 2s 202ms/step - loss: 1.9087e-04 - val_loss: 0.0115\n",
            "Epoch 36/100\n",
            "12/12 [==============================] - 2s 204ms/step - loss: 1.6060e-04 - val_loss: 0.0123\n",
            "Epoch 37/100\n",
            "12/12 [==============================] - 2s 203ms/step - loss: 1.8577e-04 - val_loss: 0.0105\n",
            "Epoch 38/100\n",
            "12/12 [==============================] - 2s 201ms/step - loss: 1.6004e-04 - val_loss: 0.0109\n",
            "Epoch 39/100\n",
            "12/12 [==============================] - 2s 201ms/step - loss: 1.6546e-04 - val_loss: 0.0103\n",
            "Epoch 40/100\n",
            "12/12 [==============================] - 3s 213ms/step - loss: 1.4310e-04 - val_loss: 0.0116\n",
            "Epoch 41/100\n",
            "12/12 [==============================] - 3s 222ms/step - loss: 1.5583e-04 - val_loss: 0.0101\n",
            "Epoch 42/100\n",
            "12/12 [==============================] - 3s 219ms/step - loss: 2.6073e-04 - val_loss: 0.0117\n",
            "Epoch 43/100\n",
            "12/12 [==============================] - 2s 200ms/step - loss: 1.5493e-04 - val_loss: 0.0108\n",
            "Epoch 44/100\n",
            "12/12 [==============================] - 2s 203ms/step - loss: 1.4710e-04 - val_loss: 0.0102\n",
            "Epoch 45/100\n",
            "12/12 [==============================] - 2s 207ms/step - loss: 1.8085e-04 - val_loss: 0.0108\n",
            "Epoch 46/100\n",
            "12/12 [==============================] - 2s 204ms/step - loss: 1.5996e-04 - val_loss: 0.0099\n",
            "Epoch 47/100\n",
            "12/12 [==============================] - 2s 203ms/step - loss: 1.5210e-04 - val_loss: 0.0103\n",
            "Epoch 48/100\n",
            "12/12 [==============================] - 2s 203ms/step - loss: 1.3775e-04 - val_loss: 0.0105\n",
            "Epoch 49/100\n",
            "12/12 [==============================] - 2s 202ms/step - loss: 1.4261e-04 - val_loss: 0.0098\n",
            "Epoch 50/100\n",
            "12/12 [==============================] - 2s 203ms/step - loss: 1.6035e-04 - val_loss: 0.0099\n",
            "Epoch 51/100\n",
            "12/12 [==============================] - 2s 204ms/step - loss: 1.2710e-04 - val_loss: 0.0106\n",
            "Epoch 52/100\n",
            "12/12 [==============================] - 2s 200ms/step - loss: 1.4794e-04 - val_loss: 0.0095\n",
            "Epoch 53/100\n",
            "12/12 [==============================] - 2s 200ms/step - loss: 1.2473e-04 - val_loss: 0.0094\n",
            "Epoch 54/100\n",
            "12/12 [==============================] - 2s 203ms/step - loss: 1.4664e-04 - val_loss: 0.0091\n",
            "Epoch 55/100\n",
            "12/12 [==============================] - 2s 203ms/step - loss: 1.3790e-04 - val_loss: 0.0097\n",
            "Epoch 56/100\n",
            "12/12 [==============================] - 2s 202ms/step - loss: 1.3819e-04 - val_loss: 0.0092\n",
            "Epoch 57/100\n",
            "12/12 [==============================] - 2s 204ms/step - loss: 1.3000e-04 - val_loss: 0.0091\n",
            "Epoch 58/100\n",
            "12/12 [==============================] - 2s 202ms/step - loss: 1.1710e-04 - val_loss: 0.0088\n",
            "Epoch 59/100\n",
            "12/12 [==============================] - 2s 205ms/step - loss: 1.3031e-04 - val_loss: 0.0094\n",
            "Epoch 60/100\n",
            "12/12 [==============================] - 2s 204ms/step - loss: 1.4655e-04 - val_loss: 0.0084\n",
            "Epoch 61/100\n",
            "12/12 [==============================] - 2s 202ms/step - loss: 1.2912e-04 - val_loss: 0.0086\n",
            "Epoch 62/100\n",
            "12/12 [==============================] - 2s 201ms/step - loss: 1.3765e-04 - val_loss: 0.0084\n",
            "Epoch 63/100\n",
            "12/12 [==============================] - 2s 203ms/step - loss: 1.2048e-04 - val_loss: 0.0085\n",
            "Epoch 64/100\n",
            "12/12 [==============================] - 2s 203ms/step - loss: 1.1840e-04 - val_loss: 0.0081\n",
            "Epoch 65/100\n",
            "12/12 [==============================] - 2s 201ms/step - loss: 1.2240e-04 - val_loss: 0.0080\n",
            "Epoch 66/100\n",
            "12/12 [==============================] - 2s 204ms/step - loss: 1.1580e-04 - val_loss: 0.0090\n",
            "Epoch 67/100\n",
            "12/12 [==============================] - 2s 203ms/step - loss: 1.2563e-04 - val_loss: 0.0077\n",
            "Epoch 68/100\n",
            "12/12 [==============================] - 2s 203ms/step - loss: 1.2100e-04 - val_loss: 0.0075\n",
            "Epoch 69/100\n",
            "12/12 [==============================] - 2s 202ms/step - loss: 1.6692e-04 - val_loss: 0.0076\n",
            "Epoch 70/100\n",
            "12/12 [==============================] - 2s 203ms/step - loss: 1.3552e-04 - val_loss: 0.0073\n",
            "Epoch 71/100\n",
            "12/12 [==============================] - 2s 202ms/step - loss: 1.0456e-04 - val_loss: 0.0078\n",
            "Epoch 72/100\n",
            "12/12 [==============================] - 2s 201ms/step - loss: 1.1347e-04 - val_loss: 0.0075\n",
            "Epoch 73/100\n",
            "12/12 [==============================] - 2s 205ms/step - loss: 1.1640e-04 - val_loss: 0.0069\n",
            "Epoch 74/100\n",
            "12/12 [==============================] - 3s 220ms/step - loss: 1.3203e-04 - val_loss: 0.0069\n",
            "Epoch 75/100\n",
            "12/12 [==============================] - 2s 205ms/step - loss: 1.1894e-04 - val_loss: 0.0070\n",
            "Epoch 76/100\n",
            "12/12 [==============================] - 2s 204ms/step - loss: 1.2270e-04 - val_loss: 0.0069\n",
            "Epoch 77/100\n",
            "12/12 [==============================] - 2s 202ms/step - loss: 1.1485e-04 - val_loss: 0.0067\n",
            "Epoch 78/100\n",
            "12/12 [==============================] - 2s 202ms/step - loss: 1.0710e-04 - val_loss: 0.0069\n",
            "Epoch 79/100\n",
            "12/12 [==============================] - 2s 203ms/step - loss: 1.1485e-04 - val_loss: 0.0066\n",
            "Epoch 80/100\n",
            "12/12 [==============================] - 2s 201ms/step - loss: 1.1056e-04 - val_loss: 0.0064\n",
            "Epoch 81/100\n",
            "12/12 [==============================] - 2s 206ms/step - loss: 1.1058e-04 - val_loss: 0.0067\n",
            "Epoch 82/100\n",
            "12/12 [==============================] - 2s 200ms/step - loss: 1.1023e-04 - val_loss: 0.0063\n",
            "Epoch 83/100\n",
            "12/12 [==============================] - 2s 201ms/step - loss: 1.0797e-04 - val_loss: 0.0062\n",
            "Epoch 84/100\n",
            "12/12 [==============================] - 2s 202ms/step - loss: 1.0492e-04 - val_loss: 0.0066\n",
            "Epoch 85/100\n",
            "12/12 [==============================] - 2s 205ms/step - loss: 1.1560e-04 - val_loss: 0.0070\n",
            "Epoch 86/100\n",
            "12/12 [==============================] - 2s 201ms/step - loss: 1.0729e-04 - val_loss: 0.0060\n",
            "Epoch 87/100\n",
            "12/12 [==============================] - 2s 204ms/step - loss: 9.7701e-05 - val_loss: 0.0067\n",
            "Epoch 88/100\n",
            "12/12 [==============================] - 2s 206ms/step - loss: 1.2676e-04 - val_loss: 0.0080\n",
            "Epoch 89/100\n",
            "12/12 [==============================] - 2s 200ms/step - loss: 1.1596e-04 - val_loss: 0.0062\n",
            "Epoch 90/100\n",
            "12/12 [==============================] - 2s 205ms/step - loss: 9.7833e-05 - val_loss: 0.0061\n",
            "Epoch 91/100\n",
            "12/12 [==============================] - 2s 203ms/step - loss: 1.0449e-04 - val_loss: 0.0056\n",
            "Epoch 92/100\n",
            "12/12 [==============================] - 2s 204ms/step - loss: 1.0390e-04 - val_loss: 0.0061\n",
            "Epoch 93/100\n",
            "12/12 [==============================] - 2s 205ms/step - loss: 9.4155e-05 - val_loss: 0.0055\n",
            "Epoch 94/100\n",
            "12/12 [==============================] - 2s 201ms/step - loss: 8.7379e-05 - val_loss: 0.0061\n",
            "Epoch 95/100\n",
            "12/12 [==============================] - 2s 204ms/step - loss: 8.8873e-05 - val_loss: 0.0054\n",
            "Epoch 96/100\n",
            "12/12 [==============================] - 2s 202ms/step - loss: 1.1560e-04 - val_loss: 0.0060\n",
            "Epoch 97/100\n",
            "12/12 [==============================] - 2s 200ms/step - loss: 9.4235e-05 - val_loss: 0.0058\n",
            "Epoch 98/100\n",
            "12/12 [==============================] - 2s 205ms/step - loss: 7.9803e-05 - val_loss: 0.0053\n",
            "Epoch 99/100\n",
            "12/12 [==============================] - 2s 202ms/step - loss: 8.2721e-05 - val_loss: 0.0054\n",
            "Epoch 100/100\n",
            "12/12 [==============================] - 2s 203ms/step - loss: 8.9300e-05 - val_loss: 0.0052\n"
          ],
          "name": "stdout"
        },
        {
          "output_type": "execute_result",
          "data": {
            "text/plain": [
              "<tensorflow.python.keras.callbacks.History at 0x7fb92d4de860>"
            ]
          },
          "metadata": {
            "tags": []
          },
          "execution_count": 66
        }
      ]
    },
    {
      "cell_type": "code",
      "metadata": {
        "id": "C_VPbWmdDqIi"
      },
      "source": [
        "import tensorflow as tf"
      ],
      "execution_count": 67,
      "outputs": []
    },
    {
      "cell_type": "code",
      "metadata": {
        "colab": {
          "base_uri": "https://localhost:8080/",
          "height": 35
        },
        "id": "-R0VbKJHEmtB",
        "outputId": "cf1d9de6-fc0d-4744-ad8f-b89ccedc39d9"
      },
      "source": [
        "tf.__version__"
      ],
      "execution_count": 68,
      "outputs": [
        {
          "output_type": "execute_result",
          "data": {
            "application/vnd.google.colaboratory.intrinsic+json": {
              "type": "string"
            },
            "text/plain": [
              "'2.4.0'"
            ]
          },
          "metadata": {
            "tags": []
          },
          "execution_count": 68
        }
      ]
    },
    {
      "cell_type": "code",
      "metadata": {
        "id": "RLdDy83bEqXO"
      },
      "source": [
        "### Lets Do the prediction and check performance metrics\r\n",
        "train_predict=model.predict(X_train)\r\n",
        "test_predict=model.predict(X_test)"
      ],
      "execution_count": 69,
      "outputs": []
    },
    {
      "cell_type": "code",
      "metadata": {
        "id": "Ag0PNAyoEuBZ"
      },
      "source": [
        "##Transformback to original form\r\n",
        "train_predict=scaler.inverse_transform(train_predict)\r\n",
        "test_predict=scaler.inverse_transform(test_predict)"
      ],
      "execution_count": 70,
      "outputs": []
    },
    {
      "cell_type": "code",
      "metadata": {
        "colab": {
          "base_uri": "https://localhost:8080/"
        },
        "id": "lw8nVnUTEwSQ",
        "outputId": "c9203959-d8bd-4369-b300-ac4f3fcf259a"
      },
      "source": [
        "### Calculate RMSE performance metrics\r\n",
        "import math\r\n",
        "from sklearn.metrics import mean_squared_error\r\n",
        "math.sqrt(mean_squared_error(y_train,train_predict))\r\n"
      ],
      "execution_count": 71,
      "outputs": [
        {
          "output_type": "execute_result",
          "data": {
            "text/plain": [
              "161.30201720131188"
            ]
          },
          "metadata": {
            "tags": []
          },
          "execution_count": 71
        }
      ]
    },
    {
      "cell_type": "code",
      "metadata": {
        "colab": {
          "base_uri": "https://localhost:8080/"
        },
        "id": "jGJZLOA0Ey1Z",
        "outputId": "1fdc2c9b-7ef6-4ea4-a5bf-348919d67b1b"
      },
      "source": [
        "### Test Data RMSE\r\n",
        "math.sqrt(mean_squared_error(ytest,test_predict))"
      ],
      "execution_count": 72,
      "outputs": [
        {
          "output_type": "execute_result",
          "data": {
            "text/plain": [
              "268.56075770759736"
            ]
          },
          "metadata": {
            "tags": []
          },
          "execution_count": 72
        }
      ]
    },
    {
      "cell_type": "code",
      "metadata": {
        "colab": {
          "base_uri": "https://localhost:8080/",
          "height": 265
        },
        "id": "e45Uw2RLE2Q8",
        "outputId": "0aefb6ab-c1e1-4a0d-d36b-3781fc8ba898"
      },
      "source": [
        "### Plotting \r\n",
        "# shift train predictions for plotting\r\n",
        "look_back=100\r\n",
        "trainPredictPlot = numpy.empty_like(df1)\r\n",
        "trainPredictPlot[:, :] = np.nan\r\n",
        "trainPredictPlot[look_back:len(train_predict)+look_back, :] = train_predict\r\n",
        "# shift test predictions for plotting\r\n",
        "testPredictPlot = numpy.empty_like(df1)\r\n",
        "testPredictPlot[:, :] = numpy.nan\r\n",
        "testPredictPlot[len(train_predict)+(look_back*2)+1:len(df1)-1, :] = test_predict\r\n",
        "# plot baseline and predictions\r\n",
        "plt.plot(scaler.inverse_transform(df1))\r\n",
        "plt.plot(trainPredictPlot)\r\n",
        "plt.plot(testPredictPlot)\r\n",
        "plt.show()\r\n"
      ],
      "execution_count": 73,
      "outputs": [
        {
          "output_type": "display_data",
          "data": {
            "image/png": "[encoded data removed]",
            "text/plain": [
              "<Figure size 432x288 with 1 Axes>"
            ]
          },
          "metadata": {
            "tags": [],
            "needs_background": "light"
          }
        }
      ]
    },
    {
      "cell_type": "code",
      "metadata": {
        "colab": {
          "base_uri": "https://localhost:8080/"
        },
        "id": "zj31f61pE5Li",
        "outputId": "c8e341b7-a9b0-469f-ae01-43302d132af2"
      },
      "source": [
        "len(test_data)"
      ],
      "execution_count": 74,
      "outputs": [
        {
          "output_type": "execute_result",
          "data": {
            "text/plain": [
              "441"
            ]
          },
          "metadata": {
            "tags": []
          },
          "execution_count": 74
        }
      ]
    },
    {
      "cell_type": "code",
      "metadata": {
        "colab": {
          "base_uri": "https://localhost:8080/"
        },
        "id": "IOnlveoWE9Le",
        "outputId": "8732e0c3-fb50-4003-bfd3-77b2a18ba0cc"
      },
      "source": [
        "x_input=test_data[341:].reshape(1,-1)\r\n",
        "x_input.shape"
      ],
      "execution_count": 75,
      "outputs": [
        {
          "output_type": "execute_result",
          "data": {
            "text/plain": [
              "(1, 100)"
            ]
          },
          "metadata": {
            "tags": []
          },
          "execution_count": 75
        }
      ]
    },
    {
      "cell_type": "code",
      "metadata": {
        "id": "PLF-GZTkFF_I"
      },
      "source": [
        "temp_input=list(x_input)\r\n",
        "temp_input=temp_input[0].tolist()\r\n"
      ],
      "execution_count": 76,
      "outputs": []
    },
    {
      "cell_type": "code",
      "metadata": {
        "colab": {
          "base_uri": "https://localhost:8080/"
        },
        "id": "NGEQni3AFJpF",
        "outputId": "b19ecc69-b1d8-47b3-a1fd-9e7122281cf3"
      },
      "source": [
        "temp_input"
      ],
      "execution_count": 77,
      "outputs": [
        {
          "output_type": "execute_result",
          "data": {
            "text/plain": [
              "[0.89455201443175,\n",
              " 0.8959470835838845,\n",
              " 0.9206494287432352,\n",
              " 0.9792904389657247,\n",
              " 0.9936019242333134,\n",
              " 0.9836680697534577,\n",
              " 1.0,\n",
              " 0.9854479855682503,\n",
              " 0.983499699338545,\n",
              " 0.09308478653036678,\n",
              " 0.10544798556825014,\n",
              " 0.09876127480457003,\n",
              " 0.07345760673481655,\n",
              " 0.07365003006614551,\n",
              " 0.05407095610342749,\n",
              " 0.06489476849067943,\n",
              " 0.055682501503307225,\n",
              " 0.052098616957306054,\n",
              " 0.0601683704149128,\n",
              " 0.06061334936861096,\n",
              " 0.05241130487071555,\n",
              " 0.04810583283223091,\n",
              " 0.03968731208659049,\n",
              " 0.04748045700541187,\n",
              " 0.05164161154539987,\n",
              " 0.04036079374624174,\n",
              " 0.04300661455201443,\n",
              " 0.05277209861695731,\n",
              " 0.05921828021647624,\n",
              " 0.05712567648827421,\n",
              " 0.06126277811184605,\n",
              " 0.06361996392062536,\n",
              " 0.05455201443174984,\n",
              " 0.062922429344558,\n",
              " 0.05488875526157544,\n",
              " 0.059506915213469624,\n",
              " 0.059242333132892344,\n",
              " 0.06405291641611544,\n",
              " 0.08192423331328924,\n",
              " 0.07398677089597111,\n",
              " 0.07420324714371618,\n",
              " 0.07304870715574258,\n",
              " 0.06898376428141911,\n",
              " 0.061671677690920024,\n",
              " 0.06535177390258567,\n",
              " 0.06381238725195432,\n",
              " 0.06111846061334936,\n",
              " 0.059410703547805144,\n",
              " 0.05943475646422125,\n",
              " 0.06316295850871917,\n",
              " 0.05017438364401683,\n",
              " 0.06008418520745634,\n",
              " 0.04454600120264579,\n",
              " 0.04432952495490078,\n",
              " 0.04834636199639203,\n",
              " 0.05919422730006013,\n",
              " 0.06900781719783522,\n",
              " 0.06819001803968727,\n",
              " 0.062489476849067915,\n",
              " 0.06164762477450386,\n",
              " 0.0701142513529765,\n",
              " 0.0694407696933253,\n",
              " 0.06956103427540589,\n",
              " 0.07206253758268188,\n",
              " 0.06987372218881538,\n",
              " 0.0666025255562237,\n",
              " 0.06806975345760674,\n",
              " 0.0649428743235117,\n",
              " 0.056548406494287384,\n",
              " 0.05972339146121464,\n",
              " 0.06179194227300061,\n",
              " 0.06313890559230306,\n",
              " 0.06905592303066743,\n",
              " 0.07788334335538183,\n",
              " 0.07874924834636199,\n",
              " 0.07841250751653633,\n",
              " 0.07675285628382439,\n",
              " 0.08036079374624172,\n",
              " 0.08187612748045697,\n",
              " 0.07562236921226695,\n",
              " 0.0791340950090198,\n",
              " 0.07713770294648226,\n",
              " 0.07562236921226695,\n",
              " 0.0902946482260974,\n",
              " 0.0901262778111846,\n",
              " 0.09226698737221883,\n",
              " 0.08734816596512324,\n",
              " 0.0911365003006614,\n",
              " 0.09991581479254358,\n",
              " 0.09770294648226097,\n",
              " 0.10013229104028859,\n",
              " 0.11148526758869509,\n",
              " 0.10710763680096214,\n",
              " 0.1043415514131088,\n",
              " 0.10186410102224891,\n",
              " 0.09397474443776305,\n",
              " 0.0978232110643415,\n",
              " 0.08721587492483462,\n",
              " 0.09760673481659649,\n",
              " 0.10032471437161755]"
            ]
          },
          "metadata": {
            "tags": []
          },
          "execution_count": 77
        }
      ]
    },
    {
      "cell_type": "code",
      "metadata": {
        "colab": {
          "base_uri": "https://localhost:8080/"
        },
        "id": "6brc8F-aFLWq",
        "outputId": "48725f1d-eba4-40b3-8872-8e916a1e6428"
      },
      "source": [
        "# demonstrate prediction for next 10 days\r\n",
        "from numpy import array\r\n",
        "\r\n",
        "lst_output=[]\r\n",
        "n_steps=100\r\n",
        "i=0\r\n",
        "while(i<30):\r\n",
        "    \r\n",
        "    if(len(temp_input)>100):\r\n",
        "        #print(temp_input)\r\n",
        "        x_input=np.array(temp_input[1:])\r\n",
        "        print(\"{} day input {}\".format(i,x_input))\r\n",
        "        x_input=x_input.reshape(1,-1)\r\n",
        "        x_input = x_input.reshape((1, n_steps, 1))\r\n",
        "        #print(x_input)\r\n",
        "        yhat = model.predict(x_input, verbose=0)\r\n",
        "        print(\"{} day output {}\".format(i,yhat))\r\n",
        "        temp_input.extend(yhat[0].tolist())\r\n",
        "        temp_input=temp_input[1:]\r\n",
        "        #print(temp_input)\r\n",
        "        lst_output.extend(yhat.tolist())\r\n",
        "        i=i+1\r\n",
        "    else:\r\n",
        "        x_input = x_input.reshape((1, n_steps,1))\r\n",
        "        yhat = model.predict(x_input, verbose=0)\r\n",
        "        print(yhat[0])\r\n",
        "        temp_input.extend(yhat[0].tolist())\r\n",
        "        print(len(temp_input))\r\n",
        "        lst_output.extend(yhat.tolist())\r\n",
        "        i=i+1\r\n",
        "    \r\n",
        "\r\n",
        "print(lst_output)\r\n"
      ],
      "execution_count": 78,
      "outputs": [
        {
          "output_type": "stream",
          "text": [
            "[0.09784289]\n",
            "101\n",
            "1 day input [0.89594708 0.92064943 0.97929044 0.99360192 0.98366807 1.\n",
            " 0.98544799 0.9834997  0.09308479 0.10544799 0.09876127 0.07345761\n",
            " 0.07365003 0.05407096 0.06489477 0.0556825  0.05209862 0.06016837\n",
            " 0.06061335 0.0524113  0.04810583 0.03968731 0.04748046 0.05164161\n",
            " 0.04036079 0.04300661 0.0527721  0.05921828 0.05712568 0.06126278\n",
            " 0.06361996 0.05455201 0.06292243 0.05488876 0.05950692 0.05924233\n",
            " 0.06405292 0.08192423 0.07398677 0.07420325 0.07304871 0.06898376\n",
            " 0.06167168 0.06535177 0.06381239 0.06111846 0.0594107  0.05943476\n",
            " 0.06316296 0.05017438 0.06008419 0.044546   0.04432952 0.04834636\n",
            " 0.05919423 0.06900782 0.06819002 0.06248948 0.06164762 0.07011425\n",
            " 0.06944077 0.06956103 0.07206254 0.06987372 0.06660253 0.06806975\n",
            " 0.06494287 0.05654841 0.05972339 0.06179194 0.06313891 0.06905592\n",
            " 0.07788334 0.07874925 0.07841251 0.07675286 0.08036079 0.08187613\n",
            " 0.07562237 0.0791341  0.0771377  0.07562237 0.09029465 0.09012628\n",
            " 0.09226699 0.08734817 0.0911365  0.09991581 0.09770295 0.10013229\n",
            " 0.11148527 0.10710764 0.10434155 0.1018641  0.09397474 0.09782321\n",
            " 0.08721587 0.09760673 0.10032471 0.09784289]\n",
            "1 day output [[0.09759822]]\n",
            "2 day input [0.92064943 0.97929044 0.99360192 0.98366807 1.         0.98544799\n",
            " 0.9834997  0.09308479 0.10544799 0.09876127 0.07345761 0.07365003\n",
            " 0.05407096 0.06489477 0.0556825  0.05209862 0.06016837 0.06061335\n",
            " 0.0524113  0.04810583 0.03968731 0.04748046 0.05164161 0.04036079\n",
            " 0.04300661 0.0527721  0.05921828 0.05712568 0.06126278 0.06361996\n",
            " 0.05455201 0.06292243 0.05488876 0.05950692 0.05924233 0.06405292\n",
            " 0.08192423 0.07398677 0.07420325 0.07304871 0.06898376 0.06167168\n",
            " 0.06535177 0.06381239 0.06111846 0.0594107  0.05943476 0.06316296\n",
            " 0.05017438 0.06008419 0.044546   0.04432952 0.04834636 0.05919423\n",
            " 0.06900782 0.06819002 0.06248948 0.06164762 0.07011425 0.06944077\n",
            " 0.06956103 0.07206254 0.06987372 0.06660253 0.06806975 0.06494287\n",
            " 0.05654841 0.05972339 0.06179194 0.06313891 0.06905592 0.07788334\n",
            " 0.07874925 0.07841251 0.07675286 0.08036079 0.08187613 0.07562237\n",
            " 0.0791341  0.0771377  0.07562237 0.09029465 0.09012628 0.09226699\n",
            " 0.08734817 0.0911365  0.09991581 0.09770295 0.10013229 0.11148527\n",
            " 0.10710764 0.10434155 0.1018641  0.09397474 0.09782321 0.08721587\n",
            " 0.09760673 0.10032471 0.09784289 0.09759822]\n",
            "2 day output [[0.09795315]]\n",
            "3 day input [0.97929044 0.99360192 0.98366807 1.         0.98544799 0.9834997\n",
            " 0.09308479 0.10544799 0.09876127 0.07345761 0.07365003 0.05407096\n",
            " 0.06489477 0.0556825  0.05209862 0.06016837 0.06061335 0.0524113\n",
            " 0.04810583 0.03968731 0.04748046 0.05164161 0.04036079 0.04300661\n",
            " 0.0527721  0.05921828 0.05712568 0.06126278 0.06361996 0.05455201\n",
            " 0.06292243 0.05488876 0.05950692 0.05924233 0.06405292 0.08192423\n",
            " 0.07398677 0.07420325 0.07304871 0.06898376 0.06167168 0.06535177\n",
            " 0.06381239 0.06111846 0.0594107  0.05943476 0.06316296 0.05017438\n",
            " 0.06008419 0.044546   0.04432952 0.04834636 0.05919423 0.06900782\n",
            " 0.06819002 0.06248948 0.06164762 0.07011425 0.06944077 0.06956103\n",
            " 0.07206254 0.06987372 0.06660253 0.06806975 0.06494287 0.05654841\n",
            " 0.05972339 0.06179194 0.06313891 0.06905592 0.07788334 0.07874925\n",
            " 0.07841251 0.07675286 0.08036079 0.08187613 0.07562237 0.0791341\n",
            " 0.0771377  0.07562237 0.09029465 0.09012628 0.09226699 0.08734817\n",
            " 0.0911365  0.09991581 0.09770295 0.10013229 0.11148527 0.10710764\n",
            " 0.10434155 0.1018641  0.09397474 0.09782321 0.08721587 0.09760673\n",
            " 0.10032471 0.09784289 0.09759822 0.09795315]\n",
            "3 day output [[0.09864632]]\n",
            "4 day input [0.99360192 0.98366807 1.         0.98544799 0.9834997  0.09308479\n",
            " 0.10544799 0.09876127 0.07345761 0.07365003 0.05407096 0.06489477\n",
            " 0.0556825  0.05209862 0.06016837 0.06061335 0.0524113  0.04810583\n",
            " 0.03968731 0.04748046 0.05164161 0.04036079 0.04300661 0.0527721\n",
            " 0.05921828 0.05712568 0.06126278 0.06361996 0.05455201 0.06292243\n",
            " 0.05488876 0.05950692 0.05924233 0.06405292 0.08192423 0.07398677\n",
            " 0.07420325 0.07304871 0.06898376 0.06167168 0.06535177 0.06381239\n",
            " 0.06111846 0.0594107  0.05943476 0.06316296 0.05017438 0.06008419\n",
            " 0.044546   0.04432952 0.04834636 0.05919423 0.06900782 0.06819002\n",
            " 0.06248948 0.06164762 0.07011425 0.06944077 0.06956103 0.07206254\n",
            " 0.06987372 0.06660253 0.06806975 0.06494287 0.05654841 0.05972339\n",
            " 0.06179194 0.06313891 0.06905592 0.07788334 0.07874925 0.07841251\n",
            " 0.07675286 0.08036079 0.08187613 0.07562237 0.0791341  0.0771377\n",
            " 0.07562237 0.09029465 0.09012628 0.09226699 0.08734817 0.0911365\n",
            " 0.09991581 0.09770295 0.10013229 0.11148527 0.10710764 0.10434155\n",
            " 0.1018641  0.09397474 0.09782321 0.08721587 0.09760673 0.10032471\n",
            " 0.09784289 0.09759822 0.09795315 0.09864632]\n",
            "4 day output [[0.09951864]]\n",
            "5 day input [0.98366807 1.         0.98544799 0.9834997  0.09308479 0.10544799\n",
            " 0.09876127 0.07345761 0.07365003 0.05407096 0.06489477 0.0556825\n",
            " 0.05209862 0.06016837 0.06061335 0.0524113  0.04810583 0.03968731\n",
            " 0.04748046 0.05164161 0.04036079 0.04300661 0.0527721  0.05921828\n",
            " 0.05712568 0.06126278 0.06361996 0.05455201 0.06292243 0.05488876\n",
            " 0.05950692 0.05924233 0.06405292 0.08192423 0.07398677 0.07420325\n",
            " 0.07304871 0.06898376 0.06167168 0.06535177 0.06381239 0.06111846\n",
            " 0.0594107  0.05943476 0.06316296 0.05017438 0.06008419 0.044546\n",
            " 0.04432952 0.04834636 0.05919423 0.06900782 0.06819002 0.06248948\n",
            " 0.06164762 0.07011425 0.06944077 0.06956103 0.07206254 0.06987372\n",
            " 0.06660253 0.06806975 0.06494287 0.05654841 0.05972339 0.06179194\n",
            " 0.06313891 0.06905592 0.07788334 0.07874925 0.07841251 0.07675286\n",
            " 0.08036079 0.08187613 0.07562237 0.0791341  0.0771377  0.07562237\n",
            " 0.09029465 0.09012628 0.09226699 0.08734817 0.0911365  0.09991581\n",
            " 0.09770295 0.10013229 0.11148527 0.10710764 0.10434155 0.1018641\n",
            " 0.09397474 0.09782321 0.08721587 0.09760673 0.10032471 0.09784289\n",
            " 0.09759822 0.09795315 0.09864632 0.09951864]\n",
            "5 day output [[0.10048494]]\n",
            "6 day input [1.         0.98544799 0.9834997  0.09308479 0.10544799 0.09876127\n",
            " 0.07345761 0.07365003 0.05407096 0.06489477 0.0556825  0.05209862\n",
            " 0.06016837 0.06061335 0.0524113  0.04810583 0.03968731 0.04748046\n",
            " 0.05164161 0.04036079 0.04300661 0.0527721  0.05921828 0.05712568\n",
            " 0.06126278 0.06361996 0.05455201 0.06292243 0.05488876 0.05950692\n",
            " 0.05924233 0.06405292 0.08192423 0.07398677 0.07420325 0.07304871\n",
            " 0.06898376 0.06167168 0.06535177 0.06381239 0.06111846 0.0594107\n",
            " 0.05943476 0.06316296 0.05017438 0.06008419 0.044546   0.04432952\n",
            " 0.04834636 0.05919423 0.06900782 0.06819002 0.06248948 0.06164762\n",
            " 0.07011425 0.06944077 0.06956103 0.07206254 0.06987372 0.06660253\n",
            " 0.06806975 0.06494287 0.05654841 0.05972339 0.06179194 0.06313891\n",
            " 0.06905592 0.07788334 0.07874925 0.07841251 0.07675286 0.08036079\n",
            " 0.08187613 0.07562237 0.0791341  0.0771377  0.07562237 0.09029465\n",
            " 0.09012628 0.09226699 0.08734817 0.0911365  0.09991581 0.09770295\n",
            " 0.10013229 0.11148527 0.10710764 0.10434155 0.1018641  0.09397474\n",
            " 0.09782321 0.08721587 0.09760673 0.10032471 0.09784289 0.09759822\n",
            " 0.09795315 0.09864632 0.09951864 0.10048494]\n",
            "6 day output [[0.10150137]]\n",
            "7 day input [0.98544799 0.9834997  0.09308479 0.10544799 0.09876127 0.07345761\n",
            " 0.07365003 0.05407096 0.06489477 0.0556825  0.05209862 0.06016837\n",
            " 0.06061335 0.0524113  0.04810583 0.03968731 0.04748046 0.05164161\n",
            " 0.04036079 0.04300661 0.0527721  0.05921828 0.05712568 0.06126278\n",
            " 0.06361996 0.05455201 0.06292243 0.05488876 0.05950692 0.05924233\n",
            " 0.06405292 0.08192423 0.07398677 0.07420325 0.07304871 0.06898376\n",
            " 0.06167168 0.06535177 0.06381239 0.06111846 0.0594107  0.05943476\n",
            " 0.06316296 0.05017438 0.06008419 0.044546   0.04432952 0.04834636\n",
            " 0.05919423 0.06900782 0.06819002 0.06248948 0.06164762 0.07011425\n",
            " 0.06944077 0.06956103 0.07206254 0.06987372 0.06660253 0.06806975\n",
            " 0.06494287 0.05654841 0.05972339 0.06179194 0.06313891 0.06905592\n",
            " 0.07788334 0.07874925 0.07841251 0.07675286 0.08036079 0.08187613\n",
            " 0.07562237 0.0791341  0.0771377  0.07562237 0.09029465 0.09012628\n",
            " 0.09226699 0.08734817 0.0911365  0.09991581 0.09770295 0.10013229\n",
            " 0.11148527 0.10710764 0.10434155 0.1018641  0.09397474 0.09782321\n",
            " 0.08721587 0.09760673 0.10032471 0.09784289 0.09759822 0.09795315\n",
            " 0.09864632 0.09951864 0.10048494 0.10150137]\n",
            "7 day output [[0.10254323]]\n",
            "8 day input [0.9834997  0.09308479 0.10544799 0.09876127 0.07345761 0.07365003\n",
            " 0.05407096 0.06489477 0.0556825  0.05209862 0.06016837 0.06061335\n",
            " 0.0524113  0.04810583 0.03968731 0.04748046 0.05164161 0.04036079\n",
            " 0.04300661 0.0527721  0.05921828 0.05712568 0.06126278 0.06361996\n",
            " 0.05455201 0.06292243 0.05488876 0.05950692 0.05924233 0.06405292\n",
            " 0.08192423 0.07398677 0.07420325 0.07304871 0.06898376 0.06167168\n",
            " 0.06535177 0.06381239 0.06111846 0.0594107  0.05943476 0.06316296\n",
            " 0.05017438 0.06008419 0.044546   0.04432952 0.04834636 0.05919423\n",
            " 0.06900782 0.06819002 0.06248948 0.06164762 0.07011425 0.06944077\n",
            " 0.06956103 0.07206254 0.06987372 0.06660253 0.06806975 0.06494287\n",
            " 0.05654841 0.05972339 0.06179194 0.06313891 0.06905592 0.07788334\n",
            " 0.07874925 0.07841251 0.07675286 0.08036079 0.08187613 0.07562237\n",
            " 0.0791341  0.0771377  0.07562237 0.09029465 0.09012628 0.09226699\n",
            " 0.08734817 0.0911365  0.09991581 0.09770295 0.10013229 0.11148527\n",
            " 0.10710764 0.10434155 0.1018641  0.09397474 0.09782321 0.08721587\n",
            " 0.09760673 0.10032471 0.09784289 0.09759822 0.09795315 0.09864632\n",
            " 0.09951864 0.10048494 0.10150137 0.10254323]\n",
            "8 day output [[0.10359373]]\n",
            "9 day input [0.09308479 0.10544799 0.09876127 0.07345761 0.07365003 0.05407096\n",
            " 0.06489477 0.0556825  0.05209862 0.06016837 0.06061335 0.0524113\n",
            " 0.04810583 0.03968731 0.04748046 0.05164161 0.04036079 0.04300661\n",
            " 0.0527721  0.05921828 0.05712568 0.06126278 0.06361996 0.05455201\n",
            " 0.06292243 0.05488876 0.05950692 0.05924233 0.06405292 0.08192423\n",
            " 0.07398677 0.07420325 0.07304871 0.06898376 0.06167168 0.06535177\n",
            " 0.06381239 0.06111846 0.0594107  0.05943476 0.06316296 0.05017438\n",
            " 0.06008419 0.044546   0.04432952 0.04834636 0.05919423 0.06900782\n",
            " 0.06819002 0.06248948 0.06164762 0.07011425 0.06944077 0.06956103\n",
            " 0.07206254 0.06987372 0.06660253 0.06806975 0.06494287 0.05654841\n",
            " 0.05972339 0.06179194 0.06313891 0.06905592 0.07788334 0.07874925\n",
            " 0.07841251 0.07675286 0.08036079 0.08187613 0.07562237 0.0791341\n",
            " 0.0771377  0.07562237 0.09029465 0.09012628 0.09226699 0.08734817\n",
            " 0.0911365  0.09991581 0.09770295 0.10013229 0.11148527 0.10710764\n",
            " 0.10434155 0.1018641  0.09397474 0.09782321 0.08721587 0.09760673\n",
            " 0.10032471 0.09784289 0.09759822 0.09795315 0.09864632 0.09951864\n",
            " 0.10048494 0.10150137 0.10254323 0.10359373]\n",
            "9 day output [[0.10463918]]\n",
            "10 day input [0.10544799 0.09876127 0.07345761 0.07365003 0.05407096 0.06489477\n",
            " 0.0556825  0.05209862 0.06016837 0.06061335 0.0524113  0.04810583\n",
            " 0.03968731 0.04748046 0.05164161 0.04036079 0.04300661 0.0527721\n",
            " 0.05921828 0.05712568 0.06126278 0.06361996 0.05455201 0.06292243\n",
            " 0.05488876 0.05950692 0.05924233 0.06405292 0.08192423 0.07398677\n",
            " 0.07420325 0.07304871 0.06898376 0.06167168 0.06535177 0.06381239\n",
            " 0.06111846 0.0594107  0.05943476 0.06316296 0.05017438 0.06008419\n",
            " 0.044546   0.04432952 0.04834636 0.05919423 0.06900782 0.06819002\n",
            " 0.06248948 0.06164762 0.07011425 0.06944077 0.06956103 0.07206254\n",
            " 0.06987372 0.06660253 0.06806975 0.06494287 0.05654841 0.05972339\n",
            " 0.06179194 0.06313891 0.06905592 0.07788334 0.07874925 0.07841251\n",
            " 0.07675286 0.08036079 0.08187613 0.07562237 0.0791341  0.0771377\n",
            " 0.07562237 0.09029465 0.09012628 0.09226699 0.08734817 0.0911365\n",
            " 0.09991581 0.09770295 0.10013229 0.11148527 0.10710764 0.10434155\n",
            " 0.1018641  0.09397474 0.09782321 0.08721587 0.09760673 0.10032471\n",
            " 0.09784289 0.09759822 0.09795315 0.09864632 0.09951864 0.10048494\n",
            " 0.10150137 0.10254323 0.10359373 0.10463918]\n",
            "10 day output [[0.1056682]]\n",
            "11 day input [0.09876127 0.07345761 0.07365003 0.05407096 0.06489477 0.0556825\n",
            " 0.05209862 0.06016837 0.06061335 0.0524113  0.04810583 0.03968731\n",
            " 0.04748046 0.05164161 0.04036079 0.04300661 0.0527721  0.05921828\n",
            " 0.05712568 0.06126278 0.06361996 0.05455201 0.06292243 0.05488876\n",
            " 0.05950692 0.05924233 0.06405292 0.08192423 0.07398677 0.07420325\n",
            " 0.07304871 0.06898376 0.06167168 0.06535177 0.06381239 0.06111846\n",
            " 0.0594107  0.05943476 0.06316296 0.05017438 0.06008419 0.044546\n",
            " 0.04432952 0.04834636 0.05919423 0.06900782 0.06819002 0.06248948\n",
            " 0.06164762 0.07011425 0.06944077 0.06956103 0.07206254 0.06987372\n",
            " 0.06660253 0.06806975 0.06494287 0.05654841 0.05972339 0.06179194\n",
            " 0.06313891 0.06905592 0.07788334 0.07874925 0.07841251 0.07675286\n",
            " 0.08036079 0.08187613 0.07562237 0.0791341  0.0771377  0.07562237\n",
            " 0.09029465 0.09012628 0.09226699 0.08734817 0.0911365  0.09991581\n",
            " 0.09770295 0.10013229 0.11148527 0.10710764 0.10434155 0.1018641\n",
            " 0.09397474 0.09782321 0.08721587 0.09760673 0.10032471 0.09784289\n",
            " 0.09759822 0.09795315 0.09864632 0.09951864 0.10048494 0.10150137\n",
            " 0.10254323 0.10359373 0.10463918 0.1056682 ]\n",
            "11 day output [[0.10667177]]\n",
            "12 day input [0.07345761 0.07365003 0.05407096 0.06489477 0.0556825  0.05209862\n",
            " 0.06016837 0.06061335 0.0524113  0.04810583 0.03968731 0.04748046\n",
            " 0.05164161 0.04036079 0.04300661 0.0527721  0.05921828 0.05712568\n",
            " 0.06126278 0.06361996 0.05455201 0.06292243 0.05488876 0.05950692\n",
            " 0.05924233 0.06405292 0.08192423 0.07398677 0.07420325 0.07304871\n",
            " 0.06898376 0.06167168 0.06535177 0.06381239 0.06111846 0.0594107\n",
            " 0.05943476 0.06316296 0.05017438 0.06008419 0.044546   0.04432952\n",
            " 0.04834636 0.05919423 0.06900782 0.06819002 0.06248948 0.06164762\n",
            " 0.07011425 0.06944077 0.06956103 0.07206254 0.06987372 0.06660253\n",
            " 0.06806975 0.06494287 0.05654841 0.05972339 0.06179194 0.06313891\n",
            " 0.06905592 0.07788334 0.07874925 0.07841251 0.07675286 0.08036079\n",
            " 0.08187613 0.07562237 0.0791341  0.0771377  0.07562237 0.09029465\n",
            " 0.09012628 0.09226699 0.08734817 0.0911365  0.09991581 0.09770295\n",
            " 0.10013229 0.11148527 0.10710764 0.10434155 0.1018641  0.09397474\n",
            " 0.09782321 0.08721587 0.09760673 0.10032471 0.09784289 0.09759822\n",
            " 0.09795315 0.09864632 0.09951864 0.10048494 0.10150137 0.10254323\n",
            " 0.10359373 0.10463918 0.1056682  0.10667177]\n",
            "12 day output [[0.10764351]]\n",
            "13 day input [0.07365003 0.05407096 0.06489477 0.0556825  0.05209862 0.06016837\n",
            " 0.06061335 0.0524113  0.04810583 0.03968731 0.04748046 0.05164161\n",
            " 0.04036079 0.04300661 0.0527721  0.05921828 0.05712568 0.06126278\n",
            " 0.06361996 0.05455201 0.06292243 0.05488876 0.05950692 0.05924233\n",
            " 0.06405292 0.08192423 0.07398677 0.07420325 0.07304871 0.06898376\n",
            " 0.06167168 0.06535177 0.06381239 0.06111846 0.0594107  0.05943476\n",
            " 0.06316296 0.05017438 0.06008419 0.044546   0.04432952 0.04834636\n",
            " 0.05919423 0.06900782 0.06819002 0.06248948 0.06164762 0.07011425\n",
            " 0.06944077 0.06956103 0.07206254 0.06987372 0.06660253 0.06806975\n",
            " 0.06494287 0.05654841 0.05972339 0.06179194 0.06313891 0.06905592\n",
            " 0.07788334 0.07874925 0.07841251 0.07675286 0.08036079 0.08187613\n",
            " 0.07562237 0.0791341  0.0771377  0.07562237 0.09029465 0.09012628\n",
            " 0.09226699 0.08734817 0.0911365  0.09991581 0.09770295 0.10013229\n",
            " 0.11148527 0.10710764 0.10434155 0.1018641  0.09397474 0.09782321\n",
            " 0.08721587 0.09760673 0.10032471 0.09784289 0.09759822 0.09795315\n",
            " 0.09864632 0.09951864 0.10048494 0.10150137 0.10254323 0.10359373\n",
            " 0.10463918 0.1056682  0.10667177 0.10764351]\n",
            "13 day output [[0.10857996]]\n",
            "14 day input [0.05407096 0.06489477 0.0556825  0.05209862 0.06016837 0.06061335\n",
            " 0.0524113  0.04810583 0.03968731 0.04748046 0.05164161 0.04036079\n",
            " 0.04300661 0.0527721  0.05921828 0.05712568 0.06126278 0.06361996\n",
            " 0.05455201 0.06292243 0.05488876 0.05950692 0.05924233 0.06405292\n",
            " 0.08192423 0.07398677 0.07420325 0.07304871 0.06898376 0.06167168\n",
            " 0.06535177 0.06381239 0.06111846 0.0594107  0.05943476 0.06316296\n",
            " 0.05017438 0.06008419 0.044546   0.04432952 0.04834636 0.05919423\n",
            " 0.06900782 0.06819002 0.06248948 0.06164762 0.07011425 0.06944077\n",
            " 0.06956103 0.07206254 0.06987372 0.06660253 0.06806975 0.06494287\n",
            " 0.05654841 0.05972339 0.06179194 0.06313891 0.06905592 0.07788334\n",
            " 0.07874925 0.07841251 0.07675286 0.08036079 0.08187613 0.07562237\n",
            " 0.0791341  0.0771377  0.07562237 0.09029465 0.09012628 0.09226699\n",
            " 0.08734817 0.0911365  0.09991581 0.09770295 0.10013229 0.11148527\n",
            " 0.10710764 0.10434155 0.1018641  0.09397474 0.09782321 0.08721587\n",
            " 0.09760673 0.10032471 0.09784289 0.09759822 0.09795315 0.09864632\n",
            " 0.09951864 0.10048494 0.10150137 0.10254323 0.10359373 0.10463918\n",
            " 0.1056682  0.10667177 0.10764351 0.10857996]\n",
            "14 day output [[0.10948025]]\n",
            "15 day input [0.06489477 0.0556825  0.05209862 0.06016837 0.06061335 0.0524113\n",
            " 0.04810583 0.03968731 0.04748046 0.05164161 0.04036079 0.04300661\n",
            " 0.0527721  0.05921828 0.05712568 0.06126278 0.06361996 0.05455201\n",
            " 0.06292243 0.05488876 0.05950692 0.05924233 0.06405292 0.08192423\n",
            " 0.07398677 0.07420325 0.07304871 0.06898376 0.06167168 0.06535177\n",
            " 0.06381239 0.06111846 0.0594107  0.05943476 0.06316296 0.05017438\n",
            " 0.06008419 0.044546   0.04432952 0.04834636 0.05919423 0.06900782\n",
            " 0.06819002 0.06248948 0.06164762 0.07011425 0.06944077 0.06956103\n",
            " 0.07206254 0.06987372 0.06660253 0.06806975 0.06494287 0.05654841\n",
            " 0.05972339 0.06179194 0.06313891 0.06905592 0.07788334 0.07874925\n",
            " 0.07841251 0.07675286 0.08036079 0.08187613 0.07562237 0.0791341\n",
            " 0.0771377  0.07562237 0.09029465 0.09012628 0.09226699 0.08734817\n",
            " 0.0911365  0.09991581 0.09770295 0.10013229 0.11148527 0.10710764\n",
            " 0.10434155 0.1018641  0.09397474 0.09782321 0.08721587 0.09760673\n",
            " 0.10032471 0.09784289 0.09759822 0.09795315 0.09864632 0.09951864\n",
            " 0.10048494 0.10150137 0.10254323 0.10359373 0.10463918 0.1056682\n",
            " 0.10667177 0.10764351 0.10857996 0.10948025]\n",
            "15 day output [[0.11034572]]\n",
            "16 day input [0.0556825  0.05209862 0.06016837 0.06061335 0.0524113  0.04810583\n",
            " 0.03968731 0.04748046 0.05164161 0.04036079 0.04300661 0.0527721\n",
            " 0.05921828 0.05712568 0.06126278 0.06361996 0.05455201 0.06292243\n",
            " 0.05488876 0.05950692 0.05924233 0.06405292 0.08192423 0.07398677\n",
            " 0.07420325 0.07304871 0.06898376 0.06167168 0.06535177 0.06381239\n",
            " 0.06111846 0.0594107  0.05943476 0.06316296 0.05017438 0.06008419\n",
            " 0.044546   0.04432952 0.04834636 0.05919423 0.06900782 0.06819002\n",
            " 0.06248948 0.06164762 0.07011425 0.06944077 0.06956103 0.07206254\n",
            " 0.06987372 0.06660253 0.06806975 0.06494287 0.05654841 0.05972339\n",
            " 0.06179194 0.06313891 0.06905592 0.07788334 0.07874925 0.07841251\n",
            " 0.07675286 0.08036079 0.08187613 0.07562237 0.0791341  0.0771377\n",
            " 0.07562237 0.09029465 0.09012628 0.09226699 0.08734817 0.0911365\n",
            " 0.09991581 0.09770295 0.10013229 0.11148527 0.10710764 0.10434155\n",
            " 0.1018641  0.09397474 0.09782321 0.08721587 0.09760673 0.10032471\n",
            " 0.09784289 0.09759822 0.09795315 0.09864632 0.09951864 0.10048494\n",
            " 0.10150137 0.10254323 0.10359373 0.10463918 0.1056682  0.10667177\n",
            " 0.10764351 0.10857996 0.10948025 0.11034572]\n",
            "16 day output [[0.11117949]]\n",
            "17 day input [0.05209862 0.06016837 0.06061335 0.0524113  0.04810583 0.03968731\n",
            " 0.04748046 0.05164161 0.04036079 0.04300661 0.0527721  0.05921828\n",
            " 0.05712568 0.06126278 0.06361996 0.05455201 0.06292243 0.05488876\n",
            " 0.05950692 0.05924233 0.06405292 0.08192423 0.07398677 0.07420325\n",
            " 0.07304871 0.06898376 0.06167168 0.06535177 0.06381239 0.06111846\n",
            " 0.0594107  0.05943476 0.06316296 0.05017438 0.06008419 0.044546\n",
            " 0.04432952 0.04834636 0.05919423 0.06900782 0.06819002 0.06248948\n",
            " 0.06164762 0.07011425 0.06944077 0.06956103 0.07206254 0.06987372\n",
            " 0.06660253 0.06806975 0.06494287 0.05654841 0.05972339 0.06179194\n",
            " 0.06313891 0.06905592 0.07788334 0.07874925 0.07841251 0.07675286\n",
            " 0.08036079 0.08187613 0.07562237 0.0791341  0.0771377  0.07562237\n",
            " 0.09029465 0.09012628 0.09226699 0.08734817 0.0911365  0.09991581\n",
            " 0.09770295 0.10013229 0.11148527 0.10710764 0.10434155 0.1018641\n",
            " 0.09397474 0.09782321 0.08721587 0.09760673 0.10032471 0.09784289\n",
            " 0.09759822 0.09795315 0.09864632 0.09951864 0.10048494 0.10150137\n",
            " 0.10254323 0.10359373 0.10463918 0.1056682  0.10667177 0.10764351\n",
            " 0.10857996 0.10948025 0.11034572 0.11117949]\n",
            "17 day output [[0.11198585]]\n",
            "18 day input [0.06016837 0.06061335 0.0524113  0.04810583 0.03968731 0.04748046\n",
            " 0.05164161 0.04036079 0.04300661 0.0527721  0.05921828 0.05712568\n",
            " 0.06126278 0.06361996 0.05455201 0.06292243 0.05488876 0.05950692\n",
            " 0.05924233 0.06405292 0.08192423 0.07398677 0.07420325 0.07304871\n",
            " 0.06898376 0.06167168 0.06535177 0.06381239 0.06111846 0.0594107\n",
            " 0.05943476 0.06316296 0.05017438 0.06008419 0.044546   0.04432952\n",
            " 0.04834636 0.05919423 0.06900782 0.06819002 0.06248948 0.06164762\n",
            " 0.07011425 0.06944077 0.06956103 0.07206254 0.06987372 0.06660253\n",
            " 0.06806975 0.06494287 0.05654841 0.05972339 0.06179194 0.06313891\n",
            " 0.06905592 0.07788334 0.07874925 0.07841251 0.07675286 0.08036079\n",
            " 0.08187613 0.07562237 0.0791341  0.0771377  0.07562237 0.09029465\n",
            " 0.09012628 0.09226699 0.08734817 0.0911365  0.09991581 0.09770295\n",
            " 0.10013229 0.11148527 0.10710764 0.10434155 0.1018641  0.09397474\n",
            " 0.09782321 0.08721587 0.09760673 0.10032471 0.09784289 0.09759822\n",
            " 0.09795315 0.09864632 0.09951864 0.10048494 0.10150137 0.10254323\n",
            " 0.10359373 0.10463918 0.1056682  0.10667177 0.10764351 0.10857996\n",
            " 0.10948025 0.11034572 0.11117949 0.11198585]\n",
            "18 day output [[0.11276998]]\n",
            "19 day input [0.06061335 0.0524113  0.04810583 0.03968731 0.04748046 0.05164161\n",
            " 0.04036079 0.04300661 0.0527721  0.05921828 0.05712568 0.06126278\n",
            " 0.06361996 0.05455201 0.06292243 0.05488876 0.05950692 0.05924233\n",
            " 0.06405292 0.08192423 0.07398677 0.07420325 0.07304871 0.06898376\n",
            " 0.06167168 0.06535177 0.06381239 0.06111846 0.0594107  0.05943476\n",
            " 0.06316296 0.05017438 0.06008419 0.044546   0.04432952 0.04834636\n",
            " 0.05919423 0.06900782 0.06819002 0.06248948 0.06164762 0.07011425\n",
            " 0.06944077 0.06956103 0.07206254 0.06987372 0.06660253 0.06806975\n",
            " 0.06494287 0.05654841 0.05972339 0.06179194 0.06313891 0.06905592\n",
            " 0.07788334 0.07874925 0.07841251 0.07675286 0.08036079 0.08187613\n",
            " 0.07562237 0.0791341  0.0771377  0.07562237 0.09029465 0.09012628\n",
            " 0.09226699 0.08734817 0.0911365  0.09991581 0.09770295 0.10013229\n",
            " 0.11148527 0.10710764 0.10434155 0.1018641  0.09397474 0.09782321\n",
            " 0.08721587 0.09760673 0.10032471 0.09784289 0.09759822 0.09795315\n",
            " 0.09864632 0.09951864 0.10048494 0.10150137 0.10254323 0.10359373\n",
            " 0.10463918 0.1056682  0.10667177 0.10764351 0.10857996 0.10948025\n",
            " 0.11034572 0.11117949 0.11198585 0.11276998]\n",
            "19 day output [[0.11353741]]\n",
            "20 day input [0.0524113  0.04810583 0.03968731 0.04748046 0.05164161 0.04036079\n",
            " 0.04300661 0.0527721  0.05921828 0.05712568 0.06126278 0.06361996\n",
            " 0.05455201 0.06292243 0.05488876 0.05950692 0.05924233 0.06405292\n",
            " 0.08192423 0.07398677 0.07420325 0.07304871 0.06898376 0.06167168\n",
            " 0.06535177 0.06381239 0.06111846 0.0594107  0.05943476 0.06316296\n",
            " 0.05017438 0.06008419 0.044546   0.04432952 0.04834636 0.05919423\n",
            " 0.06900782 0.06819002 0.06248948 0.06164762 0.07011425 0.06944077\n",
            " 0.06956103 0.07206254 0.06987372 0.06660253 0.06806975 0.06494287\n",
            " 0.05654841 0.05972339 0.06179194 0.06313891 0.06905592 0.07788334\n",
            " 0.07874925 0.07841251 0.07675286 0.08036079 0.08187613 0.07562237\n",
            " 0.0791341  0.0771377  0.07562237 0.09029465 0.09012628 0.09226699\n",
            " 0.08734817 0.0911365  0.09991581 0.09770295 0.10013229 0.11148527\n",
            " 0.10710764 0.10434155 0.1018641  0.09397474 0.09782321 0.08721587\n",
            " 0.09760673 0.10032471 0.09784289 0.09759822 0.09795315 0.09864632\n",
            " 0.09951864 0.10048494 0.10150137 0.10254323 0.10359373 0.10463918\n",
            " 0.1056682  0.10667177 0.10764351 0.10857996 0.10948025 0.11034572\n",
            " 0.11117949 0.11198585 0.11276998 0.11353741]\n",
            "20 day output [[0.11429356]]\n",
            "21 day input [0.04810583 0.03968731 0.04748046 0.05164161 0.04036079 0.04300661\n",
            " 0.0527721  0.05921828 0.05712568 0.06126278 0.06361996 0.05455201\n",
            " 0.06292243 0.05488876 0.05950692 0.05924233 0.06405292 0.08192423\n",
            " 0.07398677 0.07420325 0.07304871 0.06898376 0.06167168 0.06535177\n",
            " 0.06381239 0.06111846 0.0594107  0.05943476 0.06316296 0.05017438\n",
            " 0.06008419 0.044546   0.04432952 0.04834636 0.05919423 0.06900782\n",
            " 0.06819002 0.06248948 0.06164762 0.07011425 0.06944077 0.06956103\n",
            " 0.07206254 0.06987372 0.06660253 0.06806975 0.06494287 0.05654841\n",
            " 0.05972339 0.06179194 0.06313891 0.06905592 0.07788334 0.07874925\n",
            " 0.07841251 0.07675286 0.08036079 0.08187613 0.07562237 0.0791341\n",
            " 0.0771377  0.07562237 0.09029465 0.09012628 0.09226699 0.08734817\n",
            " 0.0911365  0.09991581 0.09770295 0.10013229 0.11148527 0.10710764\n",
            " 0.10434155 0.1018641  0.09397474 0.09782321 0.08721587 0.09760673\n",
            " 0.10032471 0.09784289 0.09759822 0.09795315 0.09864632 0.09951864\n",
            " 0.10048494 0.10150137 0.10254323 0.10359373 0.10463918 0.1056682\n",
            " 0.10667177 0.10764351 0.10857996 0.10948025 0.11034572 0.11117949\n",
            " 0.11198585 0.11276998 0.11353741 0.11429356]\n",
            "21 day output [[0.11504365]]\n",
            "22 day input [0.03968731 0.04748046 0.05164161 0.04036079 0.04300661 0.0527721\n",
            " 0.05921828 0.05712568 0.06126278 0.06361996 0.05455201 0.06292243\n",
            " 0.05488876 0.05950692 0.05924233 0.06405292 0.08192423 0.07398677\n",
            " 0.07420325 0.07304871 0.06898376 0.06167168 0.06535177 0.06381239\n",
            " 0.06111846 0.0594107  0.05943476 0.06316296 0.05017438 0.06008419\n",
            " 0.044546   0.04432952 0.04834636 0.05919423 0.06900782 0.06819002\n",
            " 0.06248948 0.06164762 0.07011425 0.06944077 0.06956103 0.07206254\n",
            " 0.06987372 0.06660253 0.06806975 0.06494287 0.05654841 0.05972339\n",
            " 0.06179194 0.06313891 0.06905592 0.07788334 0.07874925 0.07841251\n",
            " 0.07675286 0.08036079 0.08187613 0.07562237 0.0791341  0.0771377\n",
            " 0.07562237 0.09029465 0.09012628 0.09226699 0.08734817 0.0911365\n",
            " 0.09991581 0.09770295 0.10013229 0.11148527 0.10710764 0.10434155\n",
            " 0.1018641  0.09397474 0.09782321 0.08721587 0.09760673 0.10032471\n",
            " 0.09784289 0.09759822 0.09795315 0.09864632 0.09951864 0.10048494\n",
            " 0.10150137 0.10254323 0.10359373 0.10463918 0.1056682  0.10667177\n",
            " 0.10764351 0.10857996 0.10948025 0.11034572 0.11117949 0.11198585\n",
            " 0.11276998 0.11353741 0.11429356 0.11504365]\n",
            "22 day output [[0.11579242]]\n",
            "23 day input [0.04748046 0.05164161 0.04036079 0.04300661 0.0527721  0.05921828\n",
            " 0.05712568 0.06126278 0.06361996 0.05455201 0.06292243 0.05488876\n",
            " 0.05950692 0.05924233 0.06405292 0.08192423 0.07398677 0.07420325\n",
            " 0.07304871 0.06898376 0.06167168 0.06535177 0.06381239 0.06111846\n",
            " 0.0594107  0.05943476 0.06316296 0.05017438 0.06008419 0.044546\n",
            " 0.04432952 0.04834636 0.05919423 0.06900782 0.06819002 0.06248948\n",
            " 0.06164762 0.07011425 0.06944077 0.06956103 0.07206254 0.06987372\n",
            " 0.06660253 0.06806975 0.06494287 0.05654841 0.05972339 0.06179194\n",
            " 0.06313891 0.06905592 0.07788334 0.07874925 0.07841251 0.07675286\n",
            " 0.08036079 0.08187613 0.07562237 0.0791341  0.0771377  0.07562237\n",
            " 0.09029465 0.09012628 0.09226699 0.08734817 0.0911365  0.09991581\n",
            " 0.09770295 0.10013229 0.11148527 0.10710764 0.10434155 0.1018641\n",
            " 0.09397474 0.09782321 0.08721587 0.09760673 0.10032471 0.09784289\n",
            " 0.09759822 0.09795315 0.09864632 0.09951864 0.10048494 0.10150137\n",
            " 0.10254323 0.10359373 0.10463918 0.1056682  0.10667177 0.10764351\n",
            " 0.10857996 0.10948025 0.11034572 0.11117949 0.11198585 0.11276998\n",
            " 0.11353741 0.11429356 0.11504365 0.11579242]\n",
            "23 day output [[0.11654391]]\n",
            "24 day input [0.05164161 0.04036079 0.04300661 0.0527721  0.05921828 0.05712568\n",
            " 0.06126278 0.06361996 0.05455201 0.06292243 0.05488876 0.05950692\n",
            " 0.05924233 0.06405292 0.08192423 0.07398677 0.07420325 0.07304871\n",
            " 0.06898376 0.06167168 0.06535177 0.06381239 0.06111846 0.0594107\n",
            " 0.05943476 0.06316296 0.05017438 0.06008419 0.044546   0.04432952\n",
            " 0.04834636 0.05919423 0.06900782 0.06819002 0.06248948 0.06164762\n",
            " 0.07011425 0.06944077 0.06956103 0.07206254 0.06987372 0.06660253\n",
            " 0.06806975 0.06494287 0.05654841 0.05972339 0.06179194 0.06313891\n",
            " 0.06905592 0.07788334 0.07874925 0.07841251 0.07675286 0.08036079\n",
            " 0.08187613 0.07562237 0.0791341  0.0771377  0.07562237 0.09029465\n",
            " 0.09012628 0.09226699 0.08734817 0.0911365  0.09991581 0.09770295\n",
            " 0.10013229 0.11148527 0.10710764 0.10434155 0.1018641  0.09397474\n",
            " 0.09782321 0.08721587 0.09760673 0.10032471 0.09784289 0.09759822\n",
            " 0.09795315 0.09864632 0.09951864 0.10048494 0.10150137 0.10254323\n",
            " 0.10359373 0.10463918 0.1056682  0.10667177 0.10764351 0.10857996\n",
            " 0.10948025 0.11034572 0.11117949 0.11198585 0.11276998 0.11353741\n",
            " 0.11429356 0.11504365 0.11579242 0.11654391]\n",
            "24 day output [[0.11730143]]\n",
            "25 day input [0.04036079 0.04300661 0.0527721  0.05921828 0.05712568 0.06126278\n",
            " 0.06361996 0.05455201 0.06292243 0.05488876 0.05950692 0.05924233\n",
            " 0.06405292 0.08192423 0.07398677 0.07420325 0.07304871 0.06898376\n",
            " 0.06167168 0.06535177 0.06381239 0.06111846 0.0594107  0.05943476\n",
            " 0.06316296 0.05017438 0.06008419 0.044546   0.04432952 0.04834636\n",
            " 0.05919423 0.06900782 0.06819002 0.06248948 0.06164762 0.07011425\n",
            " 0.06944077 0.06956103 0.07206254 0.06987372 0.06660253 0.06806975\n",
            " 0.06494287 0.05654841 0.05972339 0.06179194 0.06313891 0.06905592\n",
            " 0.07788334 0.07874925 0.07841251 0.07675286 0.08036079 0.08187613\n",
            " 0.07562237 0.0791341  0.0771377  0.07562237 0.09029465 0.09012628\n",
            " 0.09226699 0.08734817 0.0911365  0.09991581 0.09770295 0.10013229\n",
            " 0.11148527 0.10710764 0.10434155 0.1018641  0.09397474 0.09782321\n",
            " 0.08721587 0.09760673 0.10032471 0.09784289 0.09759822 0.09795315\n",
            " 0.09864632 0.09951864 0.10048494 0.10150137 0.10254323 0.10359373\n",
            " 0.10463918 0.1056682  0.10667177 0.10764351 0.10857996 0.10948025\n",
            " 0.11034572 0.11117949 0.11198585 0.11276998 0.11353741 0.11429356\n",
            " 0.11504365 0.11579242 0.11654391 0.11730143]\n",
            "25 day output [[0.11806759]]\n",
            "26 day input [0.04300661 0.0527721  0.05921828 0.05712568 0.06126278 0.06361996\n",
            " 0.05455201 0.06292243 0.05488876 0.05950692 0.05924233 0.06405292\n",
            " 0.08192423 0.07398677 0.07420325 0.07304871 0.06898376 0.06167168\n",
            " 0.06535177 0.06381239 0.06111846 0.0594107  0.05943476 0.06316296\n",
            " 0.05017438 0.06008419 0.044546   0.04432952 0.04834636 0.05919423\n",
            " 0.06900782 0.06819002 0.06248948 0.06164762 0.07011425 0.06944077\n",
            " 0.06956103 0.07206254 0.06987372 0.06660253 0.06806975 0.06494287\n",
            " 0.05654841 0.05972339 0.06179194 0.06313891 0.06905592 0.07788334\n",
            " 0.07874925 0.07841251 0.07675286 0.08036079 0.08187613 0.07562237\n",
            " 0.0791341  0.0771377  0.07562237 0.09029465 0.09012628 0.09226699\n",
            " 0.08734817 0.0911365  0.09991581 0.09770295 0.10013229 0.11148527\n",
            " 0.10710764 0.10434155 0.1018641  0.09397474 0.09782321 0.08721587\n",
            " 0.09760673 0.10032471 0.09784289 0.09759822 0.09795315 0.09864632\n",
            " 0.09951864 0.10048494 0.10150137 0.10254323 0.10359373 0.10463918\n",
            " 0.1056682  0.10667177 0.10764351 0.10857996 0.10948025 0.11034572\n",
            " 0.11117949 0.11198585 0.11276998 0.11353741 0.11429356 0.11504365\n",
            " 0.11579242 0.11654391 0.11730143 0.11806759]\n",
            "26 day output [[0.11884427]]\n",
            "27 day input [0.0527721  0.05921828 0.05712568 0.06126278 0.06361996 0.05455201\n",
            " 0.06292243 0.05488876 0.05950692 0.05924233 0.06405292 0.08192423\n",
            " 0.07398677 0.07420325 0.07304871 0.06898376 0.06167168 0.06535177\n",
            " 0.06381239 0.06111846 0.0594107  0.05943476 0.06316296 0.05017438\n",
            " 0.06008419 0.044546   0.04432952 0.04834636 0.05919423 0.06900782\n",
            " 0.06819002 0.06248948 0.06164762 0.07011425 0.06944077 0.06956103\n",
            " 0.07206254 0.06987372 0.06660253 0.06806975 0.06494287 0.05654841\n",
            " 0.05972339 0.06179194 0.06313891 0.06905592 0.07788334 0.07874925\n",
            " 0.07841251 0.07675286 0.08036079 0.08187613 0.07562237 0.0791341\n",
            " 0.0771377  0.07562237 0.09029465 0.09012628 0.09226699 0.08734817\n",
            " 0.0911365  0.09991581 0.09770295 0.10013229 0.11148527 0.10710764\n",
            " 0.10434155 0.1018641  0.09397474 0.09782321 0.08721587 0.09760673\n",
            " 0.10032471 0.09784289 0.09759822 0.09795315 0.09864632 0.09951864\n",
            " 0.10048494 0.10150137 0.10254323 0.10359373 0.10463918 0.1056682\n",
            " 0.10667177 0.10764351 0.10857996 0.10948025 0.11034572 0.11117949\n",
            " 0.11198585 0.11276998 0.11353741 0.11429356 0.11504365 0.11579242\n",
            " 0.11654391 0.11730143 0.11806759 0.11884427]\n",
            "27 day output [[0.11963255]]\n",
            "28 day input [0.05921828 0.05712568 0.06126278 0.06361996 0.05455201 0.06292243\n",
            " 0.05488876 0.05950692 0.05924233 0.06405292 0.08192423 0.07398677\n",
            " 0.07420325 0.07304871 0.06898376 0.06167168 0.06535177 0.06381239\n",
            " 0.06111846 0.0594107  0.05943476 0.06316296 0.05017438 0.06008419\n",
            " 0.044546   0.04432952 0.04834636 0.05919423 0.06900782 0.06819002\n",
            " 0.06248948 0.06164762 0.07011425 0.06944077 0.06956103 0.07206254\n",
            " 0.06987372 0.06660253 0.06806975 0.06494287 0.05654841 0.05972339\n",
            " 0.06179194 0.06313891 0.06905592 0.07788334 0.07874925 0.07841251\n",
            " 0.07675286 0.08036079 0.08187613 0.07562237 0.0791341  0.0771377\n",
            " 0.07562237 0.09029465 0.09012628 0.09226699 0.08734817 0.0911365\n",
            " 0.09991581 0.09770295 0.10013229 0.11148527 0.10710764 0.10434155\n",
            " 0.1018641  0.09397474 0.09782321 0.08721587 0.09760673 0.10032471\n",
            " 0.09784289 0.09759822 0.09795315 0.09864632 0.09951864 0.10048494\n",
            " 0.10150137 0.10254323 0.10359373 0.10463918 0.1056682  0.10667177\n",
            " 0.10764351 0.10857996 0.10948025 0.11034572 0.11117949 0.11198585\n",
            " 0.11276998 0.11353741 0.11429356 0.11504365 0.11579242 0.11654391\n",
            " 0.11730143 0.11806759 0.11884427 0.11963255]\n",
            "28 day output [[0.12043308]]\n",
            "29 day input [0.05712568 0.06126278 0.06361996 0.05455201 0.06292243 0.05488876\n",
            " 0.05950692 0.05924233 0.06405292 0.08192423 0.07398677 0.07420325\n",
            " 0.07304871 0.06898376 0.06167168 0.06535177 0.06381239 0.06111846\n",
            " 0.0594107  0.05943476 0.06316296 0.05017438 0.06008419 0.044546\n",
            " 0.04432952 0.04834636 0.05919423 0.06900782 0.06819002 0.06248948\n",
            " 0.06164762 0.07011425 0.06944077 0.06956103 0.07206254 0.06987372\n",
            " 0.06660253 0.06806975 0.06494287 0.05654841 0.05972339 0.06179194\n",
            " 0.06313891 0.06905592 0.07788334 0.07874925 0.07841251 0.07675286\n",
            " 0.08036079 0.08187613 0.07562237 0.0791341  0.0771377  0.07562237\n",
            " 0.09029465 0.09012628 0.09226699 0.08734817 0.0911365  0.09991581\n",
            " 0.09770295 0.10013229 0.11148527 0.10710764 0.10434155 0.1018641\n",
            " 0.09397474 0.09782321 0.08721587 0.09760673 0.10032471 0.09784289\n",
            " 0.09759822 0.09795315 0.09864632 0.09951864 0.10048494 0.10150137\n",
            " 0.10254323 0.10359373 0.10463918 0.1056682  0.10667177 0.10764351\n",
            " 0.10857996 0.10948025 0.11034572 0.11117949 0.11198585 0.11276998\n",
            " 0.11353741 0.11429356 0.11504365 0.11579242 0.11654391 0.11730143\n",
            " 0.11806759 0.11884427 0.11963255 0.12043308]\n",
            "29 day output [[0.12124584]]\n",
            "[[0.09784288704395294], [0.09759822487831116], [0.09795314818620682], [0.09864632040262222], [0.09951864182949066], [0.1004849374294281], [0.10150136798620224], [0.10254323482513428], [0.10359372943639755], [0.10463918000459671], [0.10566820204257965], [0.1066717654466629], [0.10764351487159729], [0.10857996344566345], [0.10948024690151215], [0.11034572124481201], [0.11117948591709137], [0.11198585480451584], [0.11276998370885849], [0.11353740841150284], [0.11429356038570404], [0.11504364758729935], [0.1157924234867096], [0.11654391139745712], [0.11730143427848816], [0.11806759238243103], [0.11884427070617676], [0.1196325495839119], [0.12043308466672897], [0.121245838701725]]\n"
          ],
          "name": "stdout"
        }
      ]
    },
    {
      "cell_type": "code",
      "metadata": {
        "id": "ghsiKAYAFQIH"
      },
      "source": [
        "\r\n",
        "day_new=np.arange(1,101)\r\n",
        "day_pred=np.arange(101,131)"
      ],
      "execution_count": 79,
      "outputs": []
    },
    {
      "cell_type": "code",
      "metadata": {
        "id": "vxcNn9lfFVWN"
      },
      "source": [
        "import matplotlib.pyplot as plt"
      ],
      "execution_count": 80,
      "outputs": []
    },
    {
      "cell_type": "code",
      "metadata": {
        "colab": {
          "base_uri": "https://localhost:8080/"
        },
        "id": "3_2KqnnDFW5c",
        "outputId": "7fd62022-7904-4f83-b094-d9a5c0c48953"
      },
      "source": [
        "len(df1)"
      ],
      "execution_count": 81,
      "outputs": [
        {
          "output_type": "execute_result",
          "data": {
            "text/plain": [
              "1258"
            ]
          },
          "metadata": {
            "tags": []
          },
          "execution_count": 81
        }
      ]
    },
    {
      "cell_type": "code",
      "metadata": {
        "colab": {
          "base_uri": "https://localhost:8080/",
          "height": 282
        },
        "id": "bKGN3Q4EFYfQ",
        "outputId": "c7f30d2d-1257-486f-b472-bd03cbb58651"
      },
      "source": [
        "plt.plot(day_new,scaler.inverse_transform(df1[1158:]))\r\n",
        "plt.plot(day_pred,scaler.inverse_transform(lst_output))\r\n"
      ],
      "execution_count": 82,
      "outputs": [
        {
          "output_type": "execute_result",
          "data": {
            "text/plain": [
              "[<matplotlib.lines.Line2D at 0x7fb92a333e10>]"
            ]
          },
          "metadata": {
            "tags": []
          },
          "execution_count": 82
        },
        {
          "output_type": "display_data",
          "data": {
            "image/png": "[encoded data removed]",
            "text/plain": [
              "<Figure size 432x288 with 1 Axes>"
            ]
          },
          "metadata": {
            "tags": [],
            "needs_background": "light"
          }
        }
      ]
    },
    {
      "cell_type": "code",
      "metadata": {
        "colab": {
          "base_uri": "https://localhost:8080/",
          "height": 282
        },
        "id": "JvXRqgTiFevX",
        "outputId": "59338c03-cd58-4da1-c62d-c80a3d59a47e"
      },
      "source": [
        "df3=df1.tolist()\r\n",
        "df3.extend(lst_output)\r\n",
        "plt.plot(df3[1200:])\r\n"
      ],
      "execution_count": 83,
      "outputs": [
        {
          "output_type": "execute_result",
          "data": {
            "text/plain": [
              "[<matplotlib.lines.Line2D at 0x7fb92a33ac50>]"
            ]
          },
          "metadata": {
            "tags": []
          },
          "execution_count": 83
        },
        {
          "output_type": "display_data",
          "data": {
            "image/png": "[encoded data removed]",
            "text/plain": [
              "<Figure size 432x288 with 1 Axes>"
            ]
          },
          "metadata": {
            "tags": [],
            "needs_background": "light"
          }
        }
      ]
    },
    {
      "cell_type": "code",
      "metadata": {
        "id": "y_iu9B2kFigx"
      },
      "source": [
        "df3=scaler.inverse_transform(df3).tolist()"
      ],
      "execution_count": 84,
      "outputs": []
    },
    {
      "cell_type": "code",
      "metadata": {
        "colab": {
          "base_uri": "https://localhost:8080/",
          "height": 282
        },
        "id": "pM9hFBNPFnjt",
        "outputId": "7e0dc72f-d6f5-4865-d5b7-f070ea964e5b"
      },
      "source": [
        "plt.plot(df3)"
      ],
      "execution_count": 85,
      "outputs": [
        {
          "output_type": "execute_result",
          "data": {
            "text/plain": [
              "[<matplotlib.lines.Line2D at 0x7fb92a27c2b0>]"
            ]
          },
          "metadata": {
            "tags": []
          },
          "execution_count": 85
        },
        {
          "output_type": "display_data",
          "data": {
            "image/png": "[encoded data removed]",
            "text/plain": [
              "<Figure size 432x288 with 1 Axes>"
            ]
          },
          "metadata": {
            "tags": [],
            "needs_background": "light"
          }
        }
      ]
    },
    {
      "cell_type": "code",
      "metadata": {
        "id": "19pdHq0xFn-E"
      },
      "source": [
        ""
      ],
      "execution_count": null,
      "outputs": []
    }
  ]
}